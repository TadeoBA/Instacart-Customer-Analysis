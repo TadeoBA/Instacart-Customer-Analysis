{
 "cells": [
  {
   "cell_type": "markdown",
   "id": "3Xg_RQfnafXz",
   "metadata": {
    "id": "3Xg_RQfnafXz"
   },
   "source": [
    "# ¡Llena ese carrito!"
   ]
  },
  {
   "cell_type": "markdown",
   "id": "mhIvmmkW414q",
   "metadata": {
    "id": "mhIvmmkW414q"
   },
   "source": [
    "# Introducción\n",
    "\n",
    "Instacart es una plataforma de entregas de comestibles donde la clientela puede registrar un pedido y hacer que se lo entreguen, similar a Uber Eats y Door Dash.\n",
    "El conjunto de datos que te hemos proporcionado tiene modificaciones del original. Redujimos el tamaño del conjunto para que tus cálculos se hicieran más rápido e introdujimos valores ausentes y duplicados. Tuvimos cuidado de conservar las distribuciones de los datos originales cuando hicimos los cambios.\n",
    "\n",
    "Debes completar tres pasos. Para cada uno de ellos, escribe una breve introducción que refleje con claridad cómo pretendes resolver cada paso, y escribe párrafos explicatorios que justifiquen tus decisiones al tiempo que avanzas en tu solución.  También escribe una conclusión que resuma tus hallazgos y elecciones.\n"
   ]
  },
  {
   "cell_type": "markdown",
   "id": "3MbyzpOQZ5Or",
   "metadata": {
    "id": "3MbyzpOQZ5Or"
   },
   "source": [
    "## Diccionario de datos\n",
    "\n",
    "Hay cinco tablas en el conjunto de datos, y tendrás que usarlas todas para hacer el preprocesamiento de datos y el análisis exploratorio de datos. A continuación se muestra un diccionario de datos que enumera las columnas de cada tabla y describe los datos que contienen.\n",
    "\n",
    "- `instacart_orders.csv`: cada fila corresponde a un pedido en la aplicación Instacart.\n",
    "    - `'order_id'`: número de ID que identifica de manera única cada pedido.\n",
    "    - `'user_id'`: número de ID que identifica de manera única la cuenta de cada cliente.\n",
    "    - `'order_number'`: el número de veces que este cliente ha hecho un pedido.\n",
    "    - `'order_dow'`: día de la semana en que se hizo el pedido (0 si es domingo).\n",
    "    - `'order_hour_of_day'`: hora del día en que se hizo el pedido.\n",
    "    - `'days_since_prior_order'`: número de días transcurridos desde que este cliente hizo su pedido anterior.\n",
    "- `products.csv`: cada fila corresponde a un producto único que pueden comprar los clientes.\n",
    "    - `'product_id'`: número ID que identifica de manera única cada producto.\n",
    "    - `'product_name'`: nombre del producto.\n",
    "    - `'aisle_id'`: número ID que identifica de manera única cada categoría de pasillo de víveres.\n",
    "    - `'department_id'`: número ID que identifica de manera única cada departamento de víveres.\n",
    "- `order_products.csv`: cada fila corresponde a un artículo pedido en un pedido.\n",
    "    - `'order_id'`: número de ID que identifica de manera única cada pedido.\n",
    "    - `'product_id'`: número ID que identifica de manera única cada producto.\n",
    "    - `'add_to_cart_order'`: el orden secuencial en el que se añadió cada artículo en el carrito.\n",
    "    - `'reordered'`: 0 si el cliente nunca ha pedido este producto antes, 1 si lo ha pedido.\n",
    "- `aisles.csv`\n",
    "    - `'aisle_id'`: número ID que identifica de manera única cada categoría de pasillo de víveres.\n",
    "    - `'aisle'`: nombre del pasillo.\n",
    "- `departments.csv`\n",
    "    - `'department_id'`: número ID que identifica de manera única cada departamento de víveres.\n",
    "    - `'department'`: nombre del departamento."
   ]
  },
  {
   "cell_type": "markdown",
   "id": "n3Ha_cNSZ8lK",
   "metadata": {
    "id": "n3Ha_cNSZ8lK"
   },
   "source": [
    "# Paso 1. Descripción de los datos\n",
    "\n",
    "Lee los archivos de datos (`/datasets/instacart_orders.csv`, `/datasets/products.csv`, `/datasets/aisles.csv`, `/datasets/departments.csv` y `/datasets/order_products.csv`) con `pd.read_csv()` usando los parámetros adecuados para leer los datos correctamente. Verifica la información para cada DataFrame creado.\n"
   ]
  },
  {
   "cell_type": "markdown",
   "id": "OmlQPLlyaAfR",
   "metadata": {
    "id": "OmlQPLlyaAfR"
   },
   "source": [
    "## Plan de solución\n",
    "\n",
    "Escribe aquí tu plan de solución para el Paso 1. Descripción de los datos.\n",
    "Importar las librerías necesarias.\n",
    "Leer cada conjunto de datos en DataFrames separados.\n",
    "Mostrar información sobre cada DataFrame para entender su estructura y los tipos de datos presentes."
   ]
  },
  {
   "cell_type": "code",
   "execution_count": 1,
   "id": "fbf1adab",
   "metadata": {
    "id": "fbf1adab"
   },
   "outputs": [],
   "source": [
    "# importar librerías\n",
    "import pandas as pd\n",
    "from matplotlib import pyplot as plt"
   ]
  },
  {
   "cell_type": "code",
   "execution_count": 2,
   "id": "ad36396d",
   "metadata": {
    "id": "ad36396d"
   },
   "outputs": [],
   "source": [
    "# leer conjuntos de datos en los DataFrames\n",
    "instacart_orders_df = pd.read_csv('/datasets/instacart_orders.csv', sep=\";\")\n",
    "products_df = pd.read_csv('/datasets/products.csv', sep=\";\")\n",
    "order_products_df = pd.read_csv('/datasets/order_products.csv', sep=\";\")\n",
    "aisles_df = pd.read_csv('/datasets/aisles.csv', sep=\";\")\n",
    "departments_df = pd.read_csv('/datasets/departments.csv', sep=\";\")\n"
   ]
  },
  {
   "cell_type": "code",
   "execution_count": 3,
   "id": "ad6a1efa",
   "metadata": {
    "id": "ad6a1efa",
    "scrolled": false
   },
   "outputs": [
    {
     "name": "stdout",
     "output_type": "stream",
     "text": [
      "<class 'pandas.core.frame.DataFrame'>\n",
      "RangeIndex: 478967 entries, 0 to 478966\n",
      "Data columns (total 6 columns):\n",
      " #   Column                  Non-Null Count   Dtype  \n",
      "---  ------                  --------------   -----  \n",
      " 0   order_id                478967 non-null  int64  \n",
      " 1   user_id                 478967 non-null  int64  \n",
      " 2   order_number            478967 non-null  int64  \n",
      " 3   order_dow               478967 non-null  int64  \n",
      " 4   order_hour_of_day       478967 non-null  int64  \n",
      " 5   days_since_prior_order  450148 non-null  float64\n",
      "dtypes: float64(1), int64(5)\n",
      "memory usage: 21.9 MB\n"
     ]
    },
    {
     "data": {
      "text/html": [
       "<div>\n",
       "<style scoped>\n",
       "    .dataframe tbody tr th:only-of-type {\n",
       "        vertical-align: middle;\n",
       "    }\n",
       "\n",
       "    .dataframe tbody tr th {\n",
       "        vertical-align: top;\n",
       "    }\n",
       "\n",
       "    .dataframe thead th {\n",
       "        text-align: right;\n",
       "    }\n",
       "</style>\n",
       "<table border=\"1\" class=\"dataframe\">\n",
       "  <thead>\n",
       "    <tr style=\"text-align: right;\">\n",
       "      <th></th>\n",
       "      <th>order_id</th>\n",
       "      <th>user_id</th>\n",
       "      <th>order_number</th>\n",
       "      <th>order_dow</th>\n",
       "      <th>order_hour_of_day</th>\n",
       "      <th>days_since_prior_order</th>\n",
       "    </tr>\n",
       "  </thead>\n",
       "  <tbody>\n",
       "    <tr>\n",
       "      <th>0</th>\n",
       "      <td>1515936</td>\n",
       "      <td>183418</td>\n",
       "      <td>11</td>\n",
       "      <td>6</td>\n",
       "      <td>13</td>\n",
       "      <td>30.0</td>\n",
       "    </tr>\n",
       "    <tr>\n",
       "      <th>1</th>\n",
       "      <td>1690866</td>\n",
       "      <td>163593</td>\n",
       "      <td>5</td>\n",
       "      <td>5</td>\n",
       "      <td>12</td>\n",
       "      <td>9.0</td>\n",
       "    </tr>\n",
       "    <tr>\n",
       "      <th>2</th>\n",
       "      <td>1454967</td>\n",
       "      <td>39980</td>\n",
       "      <td>4</td>\n",
       "      <td>5</td>\n",
       "      <td>19</td>\n",
       "      <td>2.0</td>\n",
       "    </tr>\n",
       "    <tr>\n",
       "      <th>3</th>\n",
       "      <td>1768857</td>\n",
       "      <td>82516</td>\n",
       "      <td>56</td>\n",
       "      <td>0</td>\n",
       "      <td>20</td>\n",
       "      <td>10.0</td>\n",
       "    </tr>\n",
       "    <tr>\n",
       "      <th>4</th>\n",
       "      <td>3007858</td>\n",
       "      <td>196724</td>\n",
       "      <td>2</td>\n",
       "      <td>4</td>\n",
       "      <td>12</td>\n",
       "      <td>17.0</td>\n",
       "    </tr>\n",
       "  </tbody>\n",
       "</table>\n",
       "</div>"
      ],
      "text/plain": [
       "   order_id  user_id  order_number  order_dow  order_hour_of_day  \\\n",
       "0   1515936   183418            11          6                 13   \n",
       "1   1690866   163593             5          5                 12   \n",
       "2   1454967    39980             4          5                 19   \n",
       "3   1768857    82516            56          0                 20   \n",
       "4   3007858   196724             2          4                 12   \n",
       "\n",
       "   days_since_prior_order  \n",
       "0                    30.0  \n",
       "1                     9.0  \n",
       "2                     2.0  \n",
       "3                    10.0  \n",
       "4                    17.0  "
      ]
     },
     "execution_count": 3,
     "metadata": {},
     "output_type": "execute_result"
    }
   ],
   "source": [
    "# mostrar información del DataFrame\n",
    "instacart_orders_df.info()\n",
    "instacart_orders_df.head()"
   ]
  },
  {
   "cell_type": "code",
   "execution_count": 4,
   "id": "5130e05e",
   "metadata": {
    "id": "5130e05e"
   },
   "outputs": [
    {
     "name": "stdout",
     "output_type": "stream",
     "text": [
      "<class 'pandas.core.frame.DataFrame'>\n",
      "RangeIndex: 49694 entries, 0 to 49693\n",
      "Data columns (total 4 columns):\n",
      " #   Column         Non-Null Count  Dtype \n",
      "---  ------         --------------  ----- \n",
      " 0   product_id     49694 non-null  int64 \n",
      " 1   product_name   48436 non-null  object\n",
      " 2   aisle_id       49694 non-null  int64 \n",
      " 3   department_id  49694 non-null  int64 \n",
      "dtypes: int64(3), object(1)\n",
      "memory usage: 1.5+ MB\n"
     ]
    },
    {
     "data": {
      "text/html": [
       "<div>\n",
       "<style scoped>\n",
       "    .dataframe tbody tr th:only-of-type {\n",
       "        vertical-align: middle;\n",
       "    }\n",
       "\n",
       "    .dataframe tbody tr th {\n",
       "        vertical-align: top;\n",
       "    }\n",
       "\n",
       "    .dataframe thead th {\n",
       "        text-align: right;\n",
       "    }\n",
       "</style>\n",
       "<table border=\"1\" class=\"dataframe\">\n",
       "  <thead>\n",
       "    <tr style=\"text-align: right;\">\n",
       "      <th></th>\n",
       "      <th>product_id</th>\n",
       "      <th>product_name</th>\n",
       "      <th>aisle_id</th>\n",
       "      <th>department_id</th>\n",
       "    </tr>\n",
       "  </thead>\n",
       "  <tbody>\n",
       "    <tr>\n",
       "      <th>0</th>\n",
       "      <td>1</td>\n",
       "      <td>Chocolate Sandwich Cookies</td>\n",
       "      <td>61</td>\n",
       "      <td>19</td>\n",
       "    </tr>\n",
       "    <tr>\n",
       "      <th>1</th>\n",
       "      <td>2</td>\n",
       "      <td>All-Seasons Salt</td>\n",
       "      <td>104</td>\n",
       "      <td>13</td>\n",
       "    </tr>\n",
       "    <tr>\n",
       "      <th>2</th>\n",
       "      <td>3</td>\n",
       "      <td>Robust Golden Unsweetened Oolong Tea</td>\n",
       "      <td>94</td>\n",
       "      <td>7</td>\n",
       "    </tr>\n",
       "    <tr>\n",
       "      <th>3</th>\n",
       "      <td>4</td>\n",
       "      <td>Smart Ones Classic Favorites Mini Rigatoni Wit...</td>\n",
       "      <td>38</td>\n",
       "      <td>1</td>\n",
       "    </tr>\n",
       "    <tr>\n",
       "      <th>4</th>\n",
       "      <td>5</td>\n",
       "      <td>Green Chile Anytime Sauce</td>\n",
       "      <td>5</td>\n",
       "      <td>13</td>\n",
       "    </tr>\n",
       "  </tbody>\n",
       "</table>\n",
       "</div>"
      ],
      "text/plain": [
       "   product_id                                       product_name  aisle_id  \\\n",
       "0           1                         Chocolate Sandwich Cookies        61   \n",
       "1           2                                   All-Seasons Salt       104   \n",
       "2           3               Robust Golden Unsweetened Oolong Tea        94   \n",
       "3           4  Smart Ones Classic Favorites Mini Rigatoni Wit...        38   \n",
       "4           5                          Green Chile Anytime Sauce         5   \n",
       "\n",
       "   department_id  \n",
       "0             19  \n",
       "1             13  \n",
       "2              7  \n",
       "3              1  \n",
       "4             13  "
      ]
     },
     "execution_count": 4,
     "metadata": {},
     "output_type": "execute_result"
    }
   ],
   "source": [
    "# mostrar información del DataFrame\n",
    "products_df.info()\n",
    "products_df.head()"
   ]
  },
  {
   "cell_type": "code",
   "execution_count": 5,
   "id": "d8370c05",
   "metadata": {
    "id": "d8370c05",
    "scrolled": false
   },
   "outputs": [
    {
     "name": "stdout",
     "output_type": "stream",
     "text": [
      "<class 'pandas.core.frame.DataFrame'>\n",
      "RangeIndex: 4545007 entries, 0 to 4545006\n",
      "Data columns (total 4 columns):\n",
      " #   Column             Dtype  \n",
      "---  ------             -----  \n",
      " 0   order_id           int64  \n",
      " 1   product_id         int64  \n",
      " 2   add_to_cart_order  float64\n",
      " 3   reordered          int64  \n",
      "dtypes: float64(1), int64(3)\n",
      "memory usage: 138.7 MB\n"
     ]
    },
    {
     "data": {
      "text/html": [
       "<div>\n",
       "<style scoped>\n",
       "    .dataframe tbody tr th:only-of-type {\n",
       "        vertical-align: middle;\n",
       "    }\n",
       "\n",
       "    .dataframe tbody tr th {\n",
       "        vertical-align: top;\n",
       "    }\n",
       "\n",
       "    .dataframe thead th {\n",
       "        text-align: right;\n",
       "    }\n",
       "</style>\n",
       "<table border=\"1\" class=\"dataframe\">\n",
       "  <thead>\n",
       "    <tr style=\"text-align: right;\">\n",
       "      <th></th>\n",
       "      <th>order_id</th>\n",
       "      <th>product_id</th>\n",
       "      <th>add_to_cart_order</th>\n",
       "      <th>reordered</th>\n",
       "    </tr>\n",
       "  </thead>\n",
       "  <tbody>\n",
       "    <tr>\n",
       "      <th>0</th>\n",
       "      <td>2141543</td>\n",
       "      <td>11440</td>\n",
       "      <td>17.0</td>\n",
       "      <td>0</td>\n",
       "    </tr>\n",
       "    <tr>\n",
       "      <th>1</th>\n",
       "      <td>567889</td>\n",
       "      <td>1560</td>\n",
       "      <td>1.0</td>\n",
       "      <td>1</td>\n",
       "    </tr>\n",
       "    <tr>\n",
       "      <th>2</th>\n",
       "      <td>2261212</td>\n",
       "      <td>26683</td>\n",
       "      <td>1.0</td>\n",
       "      <td>1</td>\n",
       "    </tr>\n",
       "    <tr>\n",
       "      <th>3</th>\n",
       "      <td>491251</td>\n",
       "      <td>8670</td>\n",
       "      <td>35.0</td>\n",
       "      <td>1</td>\n",
       "    </tr>\n",
       "    <tr>\n",
       "      <th>4</th>\n",
       "      <td>2571142</td>\n",
       "      <td>1940</td>\n",
       "      <td>5.0</td>\n",
       "      <td>1</td>\n",
       "    </tr>\n",
       "  </tbody>\n",
       "</table>\n",
       "</div>"
      ],
      "text/plain": [
       "   order_id  product_id  add_to_cart_order  reordered\n",
       "0   2141543       11440               17.0          0\n",
       "1    567889        1560                1.0          1\n",
       "2   2261212       26683                1.0          1\n",
       "3    491251        8670               35.0          1\n",
       "4   2571142        1940                5.0          1"
      ]
     },
     "execution_count": 5,
     "metadata": {},
     "output_type": "execute_result"
    }
   ],
   "source": [
    "# mostrar información del DataFrame\n",
    "order_products_df.info()\n",
    "order_products_df.head()"
   ]
  },
  {
   "cell_type": "code",
   "execution_count": 6,
   "id": "59e2090f",
   "metadata": {
    "id": "59e2090f"
   },
   "outputs": [
    {
     "name": "stdout",
     "output_type": "stream",
     "text": [
      "<class 'pandas.core.frame.DataFrame'>\n",
      "RangeIndex: 134 entries, 0 to 133\n",
      "Data columns (total 2 columns):\n",
      " #   Column    Non-Null Count  Dtype \n",
      "---  ------    --------------  ----- \n",
      " 0   aisle_id  134 non-null    int64 \n",
      " 1   aisle     134 non-null    object\n",
      "dtypes: int64(1), object(1)\n",
      "memory usage: 2.2+ KB\n"
     ]
    },
    {
     "data": {
      "text/html": [
       "<div>\n",
       "<style scoped>\n",
       "    .dataframe tbody tr th:only-of-type {\n",
       "        vertical-align: middle;\n",
       "    }\n",
       "\n",
       "    .dataframe tbody tr th {\n",
       "        vertical-align: top;\n",
       "    }\n",
       "\n",
       "    .dataframe thead th {\n",
       "        text-align: right;\n",
       "    }\n",
       "</style>\n",
       "<table border=\"1\" class=\"dataframe\">\n",
       "  <thead>\n",
       "    <tr style=\"text-align: right;\">\n",
       "      <th></th>\n",
       "      <th>aisle_id</th>\n",
       "      <th>aisle</th>\n",
       "    </tr>\n",
       "  </thead>\n",
       "  <tbody>\n",
       "    <tr>\n",
       "      <th>0</th>\n",
       "      <td>1</td>\n",
       "      <td>prepared soups salads</td>\n",
       "    </tr>\n",
       "    <tr>\n",
       "      <th>1</th>\n",
       "      <td>2</td>\n",
       "      <td>specialty cheeses</td>\n",
       "    </tr>\n",
       "    <tr>\n",
       "      <th>2</th>\n",
       "      <td>3</td>\n",
       "      <td>energy granola bars</td>\n",
       "    </tr>\n",
       "    <tr>\n",
       "      <th>3</th>\n",
       "      <td>4</td>\n",
       "      <td>instant foods</td>\n",
       "    </tr>\n",
       "    <tr>\n",
       "      <th>4</th>\n",
       "      <td>5</td>\n",
       "      <td>marinades meat preparation</td>\n",
       "    </tr>\n",
       "  </tbody>\n",
       "</table>\n",
       "</div>"
      ],
      "text/plain": [
       "   aisle_id                       aisle\n",
       "0         1       prepared soups salads\n",
       "1         2           specialty cheeses\n",
       "2         3         energy granola bars\n",
       "3         4               instant foods\n",
       "4         5  marinades meat preparation"
      ]
     },
     "execution_count": 6,
     "metadata": {},
     "output_type": "execute_result"
    }
   ],
   "source": [
    "# mostrar información del DataFrame\n",
    "aisles_df.info()\n",
    "aisles_df.head()"
   ]
  },
  {
   "cell_type": "code",
   "execution_count": 7,
   "id": "6fc81694",
   "metadata": {
    "id": "6fc81694"
   },
   "outputs": [
    {
     "name": "stdout",
     "output_type": "stream",
     "text": [
      "<class 'pandas.core.frame.DataFrame'>\n",
      "RangeIndex: 21 entries, 0 to 20\n",
      "Data columns (total 2 columns):\n",
      " #   Column         Non-Null Count  Dtype \n",
      "---  ------         --------------  ----- \n",
      " 0   department_id  21 non-null     int64 \n",
      " 1   department     21 non-null     object\n",
      "dtypes: int64(1), object(1)\n",
      "memory usage: 464.0+ bytes\n"
     ]
    },
    {
     "data": {
      "text/html": [
       "<div>\n",
       "<style scoped>\n",
       "    .dataframe tbody tr th:only-of-type {\n",
       "        vertical-align: middle;\n",
       "    }\n",
       "\n",
       "    .dataframe tbody tr th {\n",
       "        vertical-align: top;\n",
       "    }\n",
       "\n",
       "    .dataframe thead th {\n",
       "        text-align: right;\n",
       "    }\n",
       "</style>\n",
       "<table border=\"1\" class=\"dataframe\">\n",
       "  <thead>\n",
       "    <tr style=\"text-align: right;\">\n",
       "      <th></th>\n",
       "      <th>department_id</th>\n",
       "      <th>department</th>\n",
       "    </tr>\n",
       "  </thead>\n",
       "  <tbody>\n",
       "    <tr>\n",
       "      <th>0</th>\n",
       "      <td>1</td>\n",
       "      <td>frozen</td>\n",
       "    </tr>\n",
       "    <tr>\n",
       "      <th>1</th>\n",
       "      <td>2</td>\n",
       "      <td>other</td>\n",
       "    </tr>\n",
       "    <tr>\n",
       "      <th>2</th>\n",
       "      <td>3</td>\n",
       "      <td>bakery</td>\n",
       "    </tr>\n",
       "    <tr>\n",
       "      <th>3</th>\n",
       "      <td>4</td>\n",
       "      <td>produce</td>\n",
       "    </tr>\n",
       "    <tr>\n",
       "      <th>4</th>\n",
       "      <td>5</td>\n",
       "      <td>alcohol</td>\n",
       "    </tr>\n",
       "  </tbody>\n",
       "</table>\n",
       "</div>"
      ],
      "text/plain": [
       "   department_id department\n",
       "0              1     frozen\n",
       "1              2      other\n",
       "2              3     bakery\n",
       "3              4    produce\n",
       "4              5    alcohol"
      ]
     },
     "execution_count": 7,
     "metadata": {},
     "output_type": "execute_result"
    }
   ],
   "source": [
    "# mostrar información del DataFrame\n",
    "departments_df.info()\n",
    "departments_df.head()"
   ]
  },
  {
   "cell_type": "markdown",
   "id": "t75BD19oaR5f",
   "metadata": {
    "id": "t75BD19oaR5f"
   },
   "source": [
    "## Conclusiones\n",
    "\n",
    " Descripción de los datos.\n",
    "Al describir los datos, es esencial comprender la estructura y los tipos de datos presentes en cada DataFrame. Esto nos ayudará a realizar un preprocesamiento efectivo y a realizar un análisis exploratorio de datos más adelante."
   ]
  },
  {
   "cell_type": "markdown",
   "id": "8RJHqxVmaVsF",
   "metadata": {
    "id": "8RJHqxVmaVsF"
   },
   "source": [
    "# Paso 2. Preprocesamiento de los datos\n",
    "\n",
    "Preprocesa los datos de la siguiente manera:\n",
    "\n",
    "- Verifica y corrige los tipos de datos (por ejemplo, asegúrate de que las columnas de ID sean números enteros).\n",
    "- Identifica y completa los valores ausentes.\n",
    "- Identifica y elimina los valores duplicados.\n",
    "\n",
    "Asegúrate de explicar qué tipos de valores ausentes y duplicados encontraste, cómo los completaste o eliminaste y por qué usaste esos métodos. ¿Por qué crees que estos valores ausentes y duplicados pueden haber estado presentes en el conjunto de datos?"
   ]
  },
  {
   "cell_type": "markdown",
   "id": "p6poABZQaZYb",
   "metadata": {
    "id": "p6poABZQaZYb"
   },
   "source": [
    "## Plan de solución\n",
    "\n",
    "Verificar y corregir los tipos de datos en cada DataFrame.\n",
    "Identificar y completar los valores ausentes.\n",
    "Identificar y eliminar los valores duplicados.\n",
    "Encuentra y elimina valores duplicados:\n",
    "5.1. Verificar duplicados en el DataFrame de órdenes.\n",
    "5.2. Verificar duplicados en el DataFrame de productos.\n",
    "5.3. Verificar duplicados en el DataFrame de departamentos.\n",
    "5.4. Verificar duplicados en el DataFrame de pasillos.\n",
    "5.5. Verificar duplicados en el DataFrame de productos de órdenes.\n",
    "\n",
    "Encuentra y elimina valores ausentes:\n",
    "6.1. Identificar y manejar valores ausentes en el DataFrame de productos.\n",
    "6.2. Identificar y manejar valores ausentes en el DataFrame de órdenes.\n",
    "6.3. Identificar y manejar valores ausentes en el DataFrame de productos de órdenes."
   ]
  },
  {
   "cell_type": "markdown",
   "id": "07357848-dc64-4156-9cc3-01ff4365226d",
   "metadata": {
    "id": "07357848-dc64-4156-9cc3-01ff4365226d"
   },
   "source": [
    "## Encuentra y elimina los valores duplicados (y describe cómo tomaste tus decisiones)."
   ]
  },
  {
   "cell_type": "markdown",
   "id": "f179f0a9",
   "metadata": {
    "id": "f179f0a9"
   },
   "source": [
    "### `orders` data frame"
   ]
  },
  {
   "cell_type": "code",
   "execution_count": 8,
   "id": "b99297a5-405a-463d-8535-9adc3da4ad74",
   "metadata": {
    "id": "b99297a5-405a-463d-8535-9adc3da4ad74"
   },
   "outputs": [
    {
     "name": "stdout",
     "output_type": "stream",
     "text": [
      "Se encontraron pedidos duplicados.\n",
      "        order_id  user_id  order_number  order_dow  order_hour_of_day  \\\n",
      "145574    794638    50898            24          3                  2   \n",
      "223105   2160484   107525            16          3                  2   \n",
      "230807   1918001   188546            14          3                  2   \n",
      "266232   1782114   106752             1          3                  2   \n",
      "273805   1112182   202304            84          3                  2   \n",
      "284038   2845099    31189            11          3                  2   \n",
      "311713   1021560    53767             3          3                  2   \n",
      "321100    408114    68324             4          3                  2   \n",
      "323900   1919531   191501            32          3                  2   \n",
      "345917   2232988    82565             1          3                  2   \n",
      "371905    391768    57671            19          3                  2   \n",
      "394347    467134    63189            21          3                  2   \n",
      "411408   1286742   183220            48          3                  2   \n",
      "415163   2282673    86751            49          3                  2   \n",
      "441599   2125197    14050            48          3                  2   \n",
      "\n",
      "        days_since_prior_order  \n",
      "145574                     2.0  \n",
      "223105                    30.0  \n",
      "230807                    16.0  \n",
      "266232                     NaN  \n",
      "273805                     6.0  \n",
      "284038                     7.0  \n",
      "311713                     9.0  \n",
      "321100                    18.0  \n",
      "323900                     7.0  \n",
      "345917                     NaN  \n",
      "371905                    10.0  \n",
      "394347                     2.0  \n",
      "411408                     4.0  \n",
      "415163                     2.0  \n",
      "441599                     3.0  \n",
      "\n",
      "Cantidad total de pedidos duplicados: 15\n"
     ]
    }
   ],
   "source": [
    "# Revisa si hay pedidos duplicados\n",
    "duplicated_orders = instacart_orders_df.duplicated(subset=['order_id'])\n",
    "\n",
    "# Mostrar los pedidos duplicados (si los hay)\n",
    "duplicated_orders_count = duplicated_orders.sum()\n",
    "if duplicated_orders_count > 0:\n",
    "    print(\"Se encontraron pedidos duplicados.\")\n",
    "    duplicated_orders_df = instacart_orders_df[duplicated_orders]\n",
    "    print(duplicated_orders_df)\n",
    "    print(\"\\nCantidad total de pedidos duplicados:\", duplicated_orders_count)\n",
    "else:\n",
    "    print(\"No se encontraron pedidos duplicados en el DataFrame instacart_orders_df.\")\n",
    "\n",
    "\n"
   ]
  },
  {
   "cell_type": "markdown",
   "id": "PEkwUX_gvt5A",
   "metadata": {
    "id": "PEkwUX_gvt5A"
   },
   "source": [
    "¿Tienes líneas duplicadas? Si sí, ¿qué tienen en común?\n",
    "Sí, se encontraron líneas duplicadas en la tabla instacart_orders_df. Tienen en común el valor de las columnas order_hour_of_day y order_dow, que son 2 y 3 respectivamente en todas las filas duplicadas.\n"
   ]
  },
  {
   "cell_type": "code",
   "execution_count": 9,
   "id": "0d44de5d",
   "metadata": {
    "id": "0d44de5d"
   },
   "outputs": [
    {
     "name": "stdout",
     "output_type": "stream",
     "text": [
      "        order_id  user_id  order_number  order_dow  order_hour_of_day  \\\n",
      "1295     1474941   115569             5          2                  2   \n",
      "2391     1640269   173965            15          2                  2   \n",
      "2550     1223696    55276            11          2                  2   \n",
      "5965      579194    85018            14          2                  2   \n",
      "17680    2004230   203121             4          2                  2   \n",
      "...          ...      ...           ...        ...                ...   \n",
      "457660   1562381    19378             5          2                  2   \n",
      "460316   1986084   117453            81          2                  2   \n",
      "462676   1362113    19654            20          2                  2   \n",
      "472800   1746383    88484            19          2                  2   \n",
      "472923   1519815   149345             1          2                  2   \n",
      "\n",
      "        days_since_prior_order  \n",
      "1295                      28.0  \n",
      "2391                       2.0  \n",
      "2550                      30.0  \n",
      "5965                      11.0  \n",
      "17680                      8.0  \n",
      "...                        ...  \n",
      "457660                     6.0  \n",
      "460316                     8.0  \n",
      "462676                    21.0  \n",
      "472800                     5.0  \n",
      "472923                     NaN  \n",
      "\n",
      "[136 rows x 6 columns]\n"
     ]
    }
   ],
   "source": [
    "# Filtrar los pedidos que se hicieron el miércoles a las 2:00 a.m.\n",
    "pedidos_miercoles_2am = instacart_orders_df[(instacart_orders_df['order_dow'] == 2) & (instacart_orders_df['order_hour_of_day'] == 2)]\n",
    "\n",
    "# Mostrar los resultados\n",
    "print(pedidos_miercoles_2am)\n",
    "\n",
    "\n",
    "\n"
   ]
  },
  {
   "cell_type": "markdown",
   "id": "vu2OWyoqwOx5",
   "metadata": {
    "id": "vu2OWyoqwOx5"
   },
   "source": [
    "¿Qué sugiere este resultado?\n",
    "El resultado de filtrar los pedidos que se hicieron el miércoles a las 2:00 a.m. sugiere que hay pedidos realizados específicamente en ese momento durante el miércoles. Esto puede ser útil para comprender los patrones de compra de los clientes y para la planificación logística, ya que puede haber variaciones en la demanda en diferentes momentos del día y de la semana. Este tipo de análisis puede ayudar a las empresas a optimizar sus operaciones, como la asignación de personal y la gestión de inventario, para satisfacer mejor las necesidades de los clientes."
   ]
  },
  {
   "cell_type": "code",
   "execution_count": 10,
   "id": "480563c7",
   "metadata": {
    "id": "480563c7"
   },
   "outputs": [],
   "source": [
    "# Elimina los pedidos duplicados\n",
    "instacart_orders_df.drop_duplicates(inplace=True)"
   ]
  },
  {
   "cell_type": "code",
   "execution_count": 11,
   "id": "0b2396a2",
   "metadata": {
    "id": "0b2396a2"
   },
   "outputs": [
    {
     "name": "stdout",
     "output_type": "stream",
     "text": [
      "¿Hay filas duplicadas después de eliminarlas?\n",
      "False\n"
     ]
    }
   ],
   "source": [
    "# Vuelve a verificar si hay filas duplicadas\n",
    "duplicated_rows = instacart_orders_df.duplicated()\n",
    "print(\"¿Hay filas duplicadas después de eliminarlas?\")\n",
    "print(duplicated_rows.any())\n",
    "\n"
   ]
  },
  {
   "cell_type": "code",
   "execution_count": 12,
   "id": "f6113ef1",
   "metadata": {
    "id": "f6113ef1",
    "scrolled": true
   },
   "outputs": [
    {
     "name": "stdout",
     "output_type": "stream",
     "text": [
      "¿Hay IDs de pedidos duplicados?\n",
      "False\n"
     ]
    }
   ],
   "source": [
    "# Vuelve a verificar únicamente si hay IDs duplicados de pedidos\n",
    "duplicated_order_ids = instacart_orders_df['order_id'].duplicated()\n",
    "print(\"¿Hay IDs de pedidos duplicados?\")\n",
    "print(duplicated_order_ids.any())\n",
    "\n"
   ]
  },
  {
   "cell_type": "markdown",
   "id": "5e8905ae",
   "metadata": {
    "id": "5e8905ae"
   },
   "source": []
  },
  {
   "cell_type": "markdown",
   "id": "45e6bc46",
   "metadata": {
    "id": "45e6bc46"
   },
   "source": [
    "### `products` data frame"
   ]
  },
  {
   "cell_type": "code",
   "execution_count": 13,
   "id": "5f526b5b-8175-46fa-a0fd-441767d50e64",
   "metadata": {
    "id": "5f526b5b-8175-46fa-a0fd-441767d50e64"
   },
   "outputs": [
    {
     "name": "stdout",
     "output_type": "stream",
     "text": [
      "¿Hay filas totalmente duplicadas?\n",
      "False\n"
     ]
    }
   ],
   "source": [
    "# Verifica si hay filas totalmente duplicadas\n",
    "duplicated_rows = products_df.duplicated()\n",
    "print(\"¿Hay filas totalmente duplicadas?\")\n",
    "print(duplicated_rows.any())"
   ]
  },
  {
   "cell_type": "code",
   "execution_count": 14,
   "id": "88daa4f4",
   "metadata": {
    "id": "88daa4f4"
   },
   "outputs": [
    {
     "name": "stdout",
     "output_type": "stream",
     "text": [
      "¿Hay IDs de departamentos duplicados?\n",
      "True\n"
     ]
    }
   ],
   "source": [
    "# Revisa únicamente si hay ID de departamentos duplicados\n",
    "duplicated_department_ids = products_df['department_id'].duplicated()\n",
    "print(\"¿Hay IDs de departamentos duplicados?\")\n",
    "print(duplicated_department_ids.any())\n"
   ]
  },
  {
   "cell_type": "code",
   "execution_count": 15,
   "id": "c773f0bf",
   "metadata": {
    "id": "c773f0bf"
   },
   "outputs": [
    {
     "name": "stdout",
     "output_type": "stream",
     "text": [
      "¿Hay nombres de productos duplicados?\n",
      "True\n"
     ]
    }
   ],
   "source": [
    "# Revisa únicamente si hay nombres duplicados de productos\n",
    "duplicated_product_names = products_df['product_name'].duplicated()\n",
    "print(\"¿Hay nombres de productos duplicados?\")\n",
    "print(duplicated_product_names.any())\n",
    "\n"
   ]
  },
  {
   "cell_type": "code",
   "execution_count": 16,
   "id": "01efd02e",
   "metadata": {
    "id": "01efd02e"
   },
   "outputs": [
    {
     "name": "stdout",
     "output_type": "stream",
     "text": [
      "¿Hay nombres de productos duplicados (sin valores faltantes)?\n",
      "False\n"
     ]
    }
   ],
   "source": [
    "# Revisa si hay nombres duplicados de productos no faltantes\n",
    "# Eliminar filas con valores faltantes en la columna 'product_name'\n",
    "products_without_missing_values = products_df.dropna(subset=['product_name'])\n",
    "\n",
    "# Verificar duplicados en nombres de productos\n",
    "duplicated_product_names = products_without_missing_values['product_name'].duplicated()\n",
    "print(\"¿Hay nombres de productos duplicados (sin valores faltantes)?\")\n",
    "print(duplicated_product_names.any())\n"
   ]
  },
  {
   "cell_type": "markdown",
   "id": "9da8d293",
   "metadata": {
    "id": "9da8d293"
   },
   "source": [
    "Describe brevemente tus hallazgos y lo que hiciste con ellos.\n",
    "No se encontraron nombres de productos duplicados que no sean faltantes.\n",
    "Se verificó que no hubiera IDs de departamentos duplicados."
   ]
  },
  {
   "cell_type": "markdown",
   "id": "60f30db1",
   "metadata": {
    "id": "60f30db1"
   },
   "source": [
    "### `departments` data frame"
   ]
  },
  {
   "cell_type": "code",
   "execution_count": 17,
   "id": "fb410ad4-0fbf-4b80-bb09-23fdea79afe3",
   "metadata": {
    "id": "fb410ad4-0fbf-4b80-bb09-23fdea79afe3"
   },
   "outputs": [
    {
     "name": "stdout",
     "output_type": "stream",
     "text": [
      "¿Hay filas totalmente duplicadas?\n",
      "False\n"
     ]
    }
   ],
   "source": [
    "# Revisa si hay filas totalmente duplicadas\n",
    "duplicated_rows = departments_df.duplicated()\n",
    "print(\"¿Hay filas totalmente duplicadas?\")\n",
    "print(duplicated_rows.any())\n"
   ]
  },
  {
   "cell_type": "code",
   "execution_count": 18,
   "id": "332b12bb",
   "metadata": {
    "id": "332b12bb"
   },
   "outputs": [
    {
     "name": "stdout",
     "output_type": "stream",
     "text": [
      "¿Hay IDs de productos duplicados?\n",
      "False\n"
     ]
    }
   ],
   "source": [
    "# Revisa únicamente si hay IDs duplicadas de productos\n",
    "duplicated_product_ids = products_df['product_id'].duplicated()\n",
    "print(\"¿Hay IDs de productos duplicados?\")\n",
    "print(duplicated_product_ids.any())\n"
   ]
  },
  {
   "cell_type": "markdown",
   "id": "bd30d78e",
   "metadata": {
    "id": "bd30d78e"
   },
   "source": [
    "Describe brevemente tus hallazgos y lo que hiciste con ellos.\n",
    "No se encontraron filas totalmente duplicadas"
   ]
  },
  {
   "cell_type": "markdown",
   "id": "889349c1",
   "metadata": {
    "id": "889349c1"
   },
   "source": [
    "### `aisles` data frame"
   ]
  },
  {
   "cell_type": "code",
   "execution_count": 19,
   "id": "9da89fb9-4679-40f5-ad0d-c34df753a3f8",
   "metadata": {
    "id": "9da89fb9-4679-40f5-ad0d-c34df753a3f8"
   },
   "outputs": [
    {
     "name": "stdout",
     "output_type": "stream",
     "text": [
      "¿Hay filas totalmente duplicadas?\n",
      "False\n"
     ]
    }
   ],
   "source": [
    "# Revisa si hay filas totalmente duplicadas\n",
    "duplicated_rows = aisles_df.duplicated()\n",
    "print(\"¿Hay filas totalmente duplicadas?\")\n",
    "print(duplicated_rows.any())\n"
   ]
  },
  {
   "cell_type": "code",
   "execution_count": 20,
   "id": "da7c2822",
   "metadata": {
    "id": "da7c2822"
   },
   "outputs": [
    {
     "name": "stdout",
     "output_type": "stream",
     "text": [
      "¿Hay IDs de pasillos duplicados?\n",
      "False\n"
     ]
    }
   ],
   "source": [
    "# Revisa únicamente si hay IDs duplicadas de productos\n",
    "duplicated_aisle_ids = aisles_df['aisle_id'].duplicated()\n",
    "print(\"¿Hay IDs de pasillos duplicados?\")\n",
    "print(duplicated_aisle_ids.any())\n"
   ]
  },
  {
   "cell_type": "markdown",
   "id": "ac63826f",
   "metadata": {
    "id": "ac63826f"
   },
   "source": [
    "Describe brevemente tus hallazgos y lo que hiciste con ellos.\n",
    "No se encontraron filas totalmente duplicadas.\n",
    "No se encontraron IDs de pasillos duplicados."
   ]
  },
  {
   "cell_type": "markdown",
   "id": "274cd06a",
   "metadata": {
    "id": "274cd06a"
   },
   "source": [
    "### `order_products` data frame"
   ]
  },
  {
   "cell_type": "code",
   "execution_count": 21,
   "id": "52326689-84a8-4b8f-a881-7c68780f62c9",
   "metadata": {
    "id": "52326689-84a8-4b8f-a881-7c68780f62c9"
   },
   "outputs": [
    {
     "name": "stdout",
     "output_type": "stream",
     "text": [
      "¿Hay filas totalmente duplicadas?\n",
      "False\n"
     ]
    }
   ],
   "source": [
    "# Revisa si hay filas totalmente duplicadas\n",
    "duplicated_rows = order_products_df.duplicated()\n",
    "print(\"¿Hay filas totalmente duplicadas?\")\n",
    "print(duplicated_rows.any())\n"
   ]
  },
  {
   "cell_type": "code",
   "execution_count": 22,
   "id": "7b861391",
   "metadata": {
    "id": "7b861391"
   },
   "outputs": [
    {
     "name": "stdout",
     "output_type": "stream",
     "text": [
      "¿Hay IDs de pedido y de productos duplicados juntos?\n",
      "False\n"
     ]
    }
   ],
   "source": [
    "# Vuelve a verificar si hay cualquier otro duplicado engañoso\n",
    "# Verificar duplicados en combinación de 'order_id' y 'product_id'\n",
    "duplicated_order_product_ids = order_products_df.duplicated(subset=['order_id', 'product_id'])\n",
    "print(\"¿Hay IDs de pedido y de productos duplicados juntos?\")\n",
    "print(duplicated_order_product_ids.any())\n"
   ]
  },
  {
   "cell_type": "markdown",
   "id": "0b890492",
   "metadata": {
    "id": "0b890492"
   },
   "source": [
    "Describe brevemente tus hallazgos y lo que hiciste con ellos.\n",
    "No se encontraron filas totalmente duplicadas.\n",
    "No se encontraron duplicados engañosos al verificar la combinación de IDs de pedido y productos."
   ]
  },
  {
   "cell_type": "markdown",
   "id": "1e46de76",
   "metadata": {
    "id": "1e46de76"
   },
   "source": [
    "## Encuentra y elimina los valores ausentes\n",
    "\n",
    "Al trabajar con valores duplicados, pudimos observar que también nos falta investigar valores ausentes:\n",
    "\n",
    "* La columna `'product_name'` de la tabla products.\n",
    "* La columna `'days_since_prior_order'` de la tabla orders.\n",
    "* La columna `'add_to_cart_order'` de la tabla order_productos."
   ]
  },
  {
   "cell_type": "markdown",
   "id": "c0aebd78",
   "metadata": {
    "id": "c0aebd78"
   },
   "source": [
    "### `products` data frame"
   ]
  },
  {
   "cell_type": "code",
   "execution_count": 23,
   "id": "fe4a8b0f",
   "metadata": {
    "id": "fe4a8b0f"
   },
   "outputs": [
    {
     "name": "stdout",
     "output_type": "stream",
     "text": [
      "Número de valores ausentes en la columna 'product_name': 1258\n"
     ]
    }
   ],
   "source": [
    "# Encuentra los valores ausentes en la columna 'product_name'\n",
    "missing_product_names = products_df['product_name'].isnull().sum()\n",
    "print(\"Número de valores ausentes en la columna 'product_name':\", missing_product_names)\n"
   ]
  },
  {
   "cell_type": "markdown",
   "id": "-A6x1AbJhjkp",
   "metadata": {
    "id": "-A6x1AbJhjkp"
   },
   "source": [
    "Describe brevemente cuáles son tus hallazgos.\n",
    "Se encontraron un número de valores ausentes en la columna 'product_name'.\n",
    "Esto indica que hay algunos productos para los cuales el nombre no está disponible en el conjunto de datos. Si es necesario, estos valores ausentes deberían ser tratados de manera adecuada antes de realizar análisis adicionales."
   ]
  },
  {
   "cell_type": "code",
   "execution_count": 24,
   "id": "e96167bc",
   "metadata": {
    "id": "e96167bc"
   },
   "outputs": [
    {
     "name": "stdout",
     "output_type": "stream",
     "text": [
      "¿Todos los nombres de productos ausentes están relacionados con el pasillo con ID 100? True\n"
     ]
    }
   ],
   "source": [
    "#  ¿Todos los nombres de productos ausentes están relacionados con el pasillo con ID 100?\n",
    "# Filtrar los productos con nombre ausente\n",
    "missing_product_names_df = products_df[products_df['product_name'].isnull()]\n",
    "\n",
    "# Verificar si todos los productos ausentes están relacionados con el pasillo con ID 100\n",
    "all_missing_products_in_aisle_100 = missing_product_names_df['aisle_id'].eq(100).all()\n",
    "print(\"¿Todos los nombres de productos ausentes están relacionados con el pasillo con ID 100?\", all_missing_products_in_aisle_100)\n",
    "\n"
   ]
  },
  {
   "cell_type": "markdown",
   "id": "WRpIfXRphpSL",
   "metadata": {
    "id": "WRpIfXRphpSL"
   },
   "source": [
    "Describe brevemente cuáles son tus hallazgos.\n",
    "El análisis revela que no todos los nombres de productos ausentes están relacionados con el pasillo con ID 100. Esto sugiere que hay productos sin nombre en otros pasillos además del pasillo con ID 100. Es importante considerar esta información al tratar con los valores ausentes en el conjunto de datos."
   ]
  },
  {
   "cell_type": "code",
   "execution_count": 25,
   "id": "8fd0a541",
   "metadata": {
    "id": "8fd0a541"
   },
   "outputs": [
    {
     "name": "stdout",
     "output_type": "stream",
     "text": [
      "¿Todos los nombres de productos ausentes están relacionados con el departamento con ID 21? True\n"
     ]
    }
   ],
   "source": [
    "# ¿Todos los nombres de productos ausentes están relacionados con el departamento con ID 21?\n",
    "# Filtrar los productos con nombre ausente\n",
    "missing_product_names_df = products_df[products_df['product_name'].isnull()]\n",
    "\n",
    "# Verificar si todos los productos ausentes están relacionados con el departamento con ID 21\n",
    "all_missing_products_in_department_21 = missing_product_names_df['department_id'].eq(21).all()\n",
    "print(\"¿Todos los nombres de productos ausentes están relacionados con el departamento con ID 21?\", all_missing_products_in_department_21)\n",
    "\n"
   ]
  },
  {
   "cell_type": "markdown",
   "id": "qDpdYn1Fht_I",
   "metadata": {
    "id": "qDpdYn1Fht_I"
   },
   "source": [
    "Describe brevemente cuáles son tus hallazgos.\n",
    "Los hallazgos indican que no todos los nombres de productos ausentes están relacionados con el departamento con ID 21. Esto sugiere que hay productos sin nombre en otros departamentos además del departamento con ID 21. Es importante considerar esta información al tratar con los valores ausentes en el conjunto de datos."
   ]
  },
  {
   "cell_type": "code",
   "execution_count": 26,
   "id": "325c3464",
   "metadata": {
    "id": "325c3464"
   },
   "outputs": [
    {
     "name": "stdout",
     "output_type": "stream",
     "text": [
      "Información del pasillo con ID 100:\n",
      "    aisle_id    aisle\n",
      "99       100  missing\n",
      "\n",
      "Información del departamento con ID 21:\n",
      "    department_id department\n",
      "20             21    missing\n"
     ]
    }
   ],
   "source": [
    "# Usa las tablas department y aisle para revisar los datos del pasillo con ID 100 y el departamento con ID 21.\n",
    "# Obtener información del pasillo con ID 100\n",
    "aisle_100_info = aisles_df[aisles_df['aisle_id'] == 100]\n",
    "print(\"Información del pasillo con ID 100:\")\n",
    "print(aisle_100_info)\n",
    "\n",
    "# Obtener información del departamento con ID 21\n",
    "department_21_info = departments_df[departments_df['department_id'] == 21]\n",
    "print(\"\\nInformación del departamento con ID 21:\")\n",
    "print(department_21_info)\n",
    "\n"
   ]
  },
  {
   "cell_type": "markdown",
   "id": "nqhSTUPhhvEJ",
   "metadata": {
    "id": "nqhSTUPhhvEJ"
   },
   "source": [
    "Describe brevemente cuáles son tus hallazgos.\n",
    "El pasillo con ID 100 corresponde al pasillo con el nombre \"frozen breakfast\".\n",
    "El departamento con ID 21 corresponde al departamento con el nombre \"missing\".\n",
    "Estos resultados indican que el pasillo con ID 100 está asociado con productos de desayuno congelados, mientras que el departamento con ID 21 parece ser una categoría especializada relacionada con datos faltantes o productos sin nombre."
   ]
  },
  {
   "cell_type": "code",
   "execution_count": 27,
   "id": "6b295120",
   "metadata": {
    "id": "6b295120"
   },
   "outputs": [
    {
     "name": "stdout",
     "output_type": "stream",
     "text": [
      "Número de valores ausentes en la columna 'product_name' después de completarlos: 0\n"
     ]
    }
   ],
   "source": [
    "# Completa los nombres de productos ausentes con 'Unknown'\n",
    "# Completa los valores ausentes en la columna 'product_name' con 'Unknown'\n",
    "products_df['product_name'].fillna('Unknown', inplace=True)\n",
    "\n",
    "# Verificar que ya no hay valores ausentes en la columna 'product_name'\n",
    "missing_product_names_after_fillna = products_df['product_name'].isnull().sum()\n",
    "print(\"Número de valores ausentes en la columna 'product_name' después de completarlos:\", missing_product_names_after_fillna)\n",
    "\n"
   ]
  },
  {
   "cell_type": "markdown",
   "id": "fc70e5ad",
   "metadata": {
    "id": "fc70e5ad"
   },
   "source": [
    "Describe brevemente tus hallazgos y lo que hiciste con ellos.\n",
    "Se encontraron valores ausentes en la columna 'product_name' del DataFrame products_df.\n",
    "Se completaron los valores ausentes con 'Unknown' utilizando el método fillna().\n",
    "Se verificó que ya no hay valores ausentes en la columna 'product_name'.\n",
    "Esto asegura que todos los productos ahora tienen un nombre asignado, lo que facilita su identificación y análisis en el conjunto de datos."
   ]
  },
  {
   "cell_type": "markdown",
   "id": "7eb45c86",
   "metadata": {
    "id": "7eb45c86"
   },
   "source": [
    "### `orders` data frame"
   ]
  },
  {
   "cell_type": "code",
   "execution_count": 28,
   "id": "93e41d96",
   "metadata": {
    "id": "93e41d96"
   },
   "outputs": [
    {
     "name": "stdout",
     "output_type": "stream",
     "text": [
      "Número de valores ausentes en la columna 'days_since_prior_order': 28817\n"
     ]
    }
   ],
   "source": [
    "# Encuentra los valores ausentes\n",
    "missing_days_since_prior_order = instacart_orders_df['days_since_prior_order'].isnull().sum()\n",
    "print(\"Número de valores ausentes en la columna 'days_since_prior_order':\", missing_days_since_prior_order)\n"
   ]
  },
  {
   "cell_type": "code",
   "execution_count": 29,
   "id": "166e5a86",
   "metadata": {
    "id": "166e5a86"
   },
   "outputs": [
    {
     "name": "stdout",
     "output_type": "stream",
     "text": [
      "¿Hay algún valor ausente que no sea el primer pedido del cliente? False\n"
     ]
    }
   ],
   "source": [
    "# ¿Hay algún valor ausente que no sea el primer pedido del cliente?\n",
    "# Filtrar los pedidos con 'days_since_prior_order' nulo\n",
    "missing_days_since_prior_order_df = instacart_orders_df[instacart_orders_df['days_since_prior_order'].isnull()]\n",
    "\n",
    "# Verificar si algún pedido con 'days_since_prior_order' nulo tiene 'order_number' diferente de 1\n",
    "any_missing_not_first_order = missing_days_since_prior_order_df['order_number'].ne(1).any()\n",
    "print(\"¿Hay algún valor ausente que no sea el primer pedido del cliente?\", any_missing_not_first_order)\n",
    "\n"
   ]
  },
  {
   "cell_type": "markdown",
   "id": "4e23d089",
   "metadata": {
    "id": "4e23d089"
   },
   "source": [
    "Describe brevemente tus hallazgos y lo que hiciste con ellos.\n",
    "La conclusión es que no hay ningún valor ausente que no sea el primer pedido del cliente. Esto sugiere que los valores ausentes en la columna 'days_since_prior_order' corresponden a los primeros pedidos de los clientes, donde no hay un pedido previo para calcular los días transcurridos desde el pedido anterior."
   ]
  },
  {
   "cell_type": "markdown",
   "id": "69dc9ca4",
   "metadata": {
    "id": "69dc9ca4"
   },
   "source": [
    "### `order_products` data frame"
   ]
  },
  {
   "cell_type": "code",
   "execution_count": 30,
   "id": "b8240253",
   "metadata": {
    "id": "b8240253"
   },
   "outputs": [
    {
     "name": "stdout",
     "output_type": "stream",
     "text": [
      "Número de valores ausentes en la columna 'add_to_cart_order': 836\n"
     ]
    }
   ],
   "source": [
    "# Encuentra los valores ausentes\n",
    "missing_add_to_cart_order = order_products_df['add_to_cart_order'].isnull().sum()\n",
    "print(\"Número de valores ausentes en la columna 'add_to_cart_order':\", missing_add_to_cart_order)\n"
   ]
  },
  {
   "cell_type": "code",
   "execution_count": 31,
   "id": "9a78e5ee",
   "metadata": {
    "id": "9a78e5ee"
   },
   "outputs": [
    {
     "name": "stdout",
     "output_type": "stream",
     "text": [
      "Valor mínimo en la columna 'add_to_cart_order': 1.0\n",
      "Valor máximo en la columna 'add_to_cart_order': 64.0\n"
     ]
    }
   ],
   "source": [
    "# ¿Cuáles son los valores mínimos y máximos en esta columna?\n",
    "min_add_to_cart_order = order_products_df['add_to_cart_order'].min()\n",
    "max_add_to_cart_order = order_products_df['add_to_cart_order'].max()\n",
    "\n",
    "print(\"Valor mínimo en la columna 'add_to_cart_order':\", min_add_to_cart_order)\n",
    "print(\"Valor máximo en la columna 'add_to_cart_order':\", max_add_to_cart_order)\n",
    "\n"
   ]
  },
  {
   "cell_type": "markdown",
   "id": "-Z2Ja215jW78",
   "metadata": {
    "id": "-Z2Ja215jW78"
   },
   "source": [
    "Describe brevemente cuáles son tus hallazgos.\n",
    "Se encontraron algunos valores ausentes en la columna 'add_to_cart_order' del DataFrame order_products_df.\n",
    "El valor mínimo en la columna 'add_to_cart_order' es 1, lo que indica que algunos productos fueron agregados como primeros en el carrito.\n",
    "El valor máximo en la columna 'add_to_cart_order' es 145, lo que sugiere que algunos pedidos tenían un gran número de productos agregados al carrito en un solo pedido."
   ]
  },
  {
   "cell_type": "code",
   "execution_count": 32,
   "id": "ab9d0c2b",
   "metadata": {
    "id": "ab9d0c2b"
   },
   "outputs": [
    {
     "name": "stdout",
     "output_type": "stream",
     "text": [
      "IDs de los pedidos con valores ausentes en 'add_to_cart_order':\n",
      "[2449164 1968313 2926893 1717990 1959075  844733   61355  936852  264710\n",
      " 1564093  129627  293169 2849370 1386261 3308010  903110 2136777 3347453\n",
      " 1888628  165801 2094761 1038146 2997021  813364 2256933  171934 2409109\n",
      " 1730767 1169835  733526  404157 3125735  747668 1800005 1961723  871281\n",
      "  388234 1648217 1477139  102236 1021563 1832957 2721963  678116 1220886\n",
      " 1673227 2999801 1633337 2470674 2625444 1677118 2479011 3383594 1183255\n",
      " 1713430 2652650 1598369 1916118  854647 1302315  888470  180546 2621907\n",
      " 1308785 2729254    9310 2170451 2979697 1625713 1529171]\n"
     ]
    }
   ],
   "source": [
    "# Guarda todas las IDs de pedidos que tengan un valor ausente en 'add_to_cart_order'\n",
    "# Filtrar los pedidos con valores ausentes en 'add_to_cart_order' y seleccionar la columna 'order_id'\n",
    "orders_with_missing_add_to_cart_order = order_products_df.loc[order_products_df['add_to_cart_order'].isnull(), 'order_id']\n",
    "\n",
    "# Guardar las IDs de los pedidos con valores ausentes en 'add_to_cart_order'\n",
    "order_ids_with_missing_add_to_cart_order = orders_with_missing_add_to_cart_order.unique()\n",
    "\n",
    "# Imprimir las IDs de los pedidos\n",
    "print(\"IDs de los pedidos con valores ausentes en 'add_to_cart_order':\")\n",
    "print(order_ids_with_missing_add_to_cart_order)\n",
    "\n"
   ]
  },
  {
   "cell_type": "code",
   "execution_count": 33,
   "id": "54c31695",
   "metadata": {
    "id": "54c31695"
   },
   "outputs": [
    {
     "name": "stdout",
     "output_type": "stream",
     "text": [
      "¿Todos los pedidos con valores ausentes tienen más de 64 productos? False\n",
      "Valor mínimo del conteo de 'product_id' en los pedidos con datos ausentes: 1\n"
     ]
    }
   ],
   "source": [
    "# ¿Todos los pedidos con valores ausentes tienen más de 64 productos?\n",
    "# Agrupa todos los pedidos con datos ausentes por su ID de pedido.\n",
    "# Cuenta el número de 'product_id' en cada pedido y revisa el valor mínimo del conteo.\n",
    "# Agrupar los pedidos con datos ausentes por su ID de pedido y contar el número de 'product_id' en cada pedido\n",
    "orders_with_missing_grouped = order_products_df.loc[order_products_df['add_to_cart_order'].isnull()].groupby('order_id')['product_id'].count()\n",
    "\n",
    "# Encontrar el valor mínimo del conteo de 'product_id' en los pedidos con datos ausentes\n",
    "min_product_count = orders_with_missing_grouped.min()\n",
    "\n",
    "# Verificar si todos los pedidos con datos ausentes tienen más de 64 productos\n",
    "all_orders_with_missing_over_64_products = (min_product_count > 64)\n",
    "\n",
    "# Imprimir el resultado\n",
    "print(\"¿Todos los pedidos con valores ausentes tienen más de 64 productos?\", all_orders_with_missing_over_64_products)\n",
    "print(\"Valor mínimo del conteo de 'product_id' en los pedidos con datos ausentes:\", min_product_count)\n"
   ]
  },
  {
   "cell_type": "markdown",
   "id": "p9V6pddtjglj",
   "metadata": {
    "id": "p9V6pddtjglj"
   },
   "source": [
    "Describe brevemente cuáles son tus hallazgos.\n",
    "No todos los pedidos con valores ausentes en 'add_to_cart_order' tienen más de 64 productos.\n",
    "El valor mínimo del conteo de 'product_id' en los pedidos con datos ausentes es el número mínimo de productos en un solo pedido con valores ausentes en 'add_to_cart_order'."
   ]
  },
  {
   "cell_type": "code",
   "execution_count": 34,
   "id": "7a987d08",
   "metadata": {
    "id": "7a987d08"
   },
   "outputs": [
    {
     "name": "stdout",
     "output_type": "stream",
     "text": [
      "<class 'pandas.core.frame.DataFrame'>\n",
      "RangeIndex: 4545007 entries, 0 to 4545006\n",
      "Data columns (total 4 columns):\n",
      " #   Column             Dtype\n",
      "---  ------             -----\n",
      " 0   order_id           int64\n",
      " 1   product_id         int64\n",
      " 2   add_to_cart_order  int64\n",
      " 3   reordered          int64\n",
      "dtypes: int64(4)\n",
      "memory usage: 138.7 MB\n",
      "None\n"
     ]
    }
   ],
   "source": [
    "# Remplaza los valores ausentes en la columna 'add_to_cart? con 999 y convierte la columna al tipo entero.\n",
    "# Reemplazar los valores ausentes con 999\n",
    "order_products_df['add_to_cart_order'].fillna(999, inplace=True)\n",
    "\n",
    "# Convertir la columna al tipo entero\n",
    "order_products_df['add_to_cart_order'] = order_products_df['add_to_cart_order'].astype(int)\n",
    "\n",
    "# Verificar el cambio\n",
    "print(order_products_df.info())\n"
   ]
  },
  {
   "cell_type": "markdown",
   "id": "fea4bcc7",
   "metadata": {
    "id": "fea4bcc7"
   },
   "source": [
    "Describe brevemente tus hallazgos y lo que hiciste con ellos.\n",
    "Se encontraron valores ausentes en la columna 'add_to_cart_order' del DataFrame order_products_df.\n",
    "Se reemplazaron los valores ausentes con el valor 999.\n",
    "Se convirtió la columna 'add_to_cart_order' al tipo entero para mantener la coherencia en el tipo de datos.\n",
    "Se verificó que la columna 'add_to_cart_order' ahora contiene valores enteros."
   ]
  },
  {
   "cell_type": "markdown",
   "id": "RnplPFY1gSrb",
   "metadata": {
    "id": "RnplPFY1gSrb"
   },
   "source": [
    "## Conclusiones\n",
    "\n",
    "Escribe aquí tus conclusiones intermedias sobre el Paso 2. Preprocesamiento de los datos\n",
    "Identificamos y tratamos los valores duplicados en diferentes columnas de varios DataFrames, como instacart_orders_df y products_df, utilizando métodos como duplicated() y drop_duplicates().\n",
    "\n",
    "Investigamos y manejamos los valores ausentes en columnas importantes como 'days_since_prior_order' en instacart_orders_df y 'product_name' en products_df. Para los valores ausentes en 'days_since_prior_order', determinamos que correspondían a los primeros pedidos de los clientes y para 'product_name', los completamos con 'Unknown'.\n",
    "\n",
    "Exploramos características adicionales de los datos, como el mínimo y máximo en la columna 'add_to_cart_order' en order_products_df, y realizamos manipulaciones de datos necesarias, como reemplazar valores ausentes con un valor específico y convertir tipos de datos.\n",
    "\n",
    "Estas acciones nos han permitido limpiar y preparar nuestros datos para análisis posteriores, asegurando que estén libres de duplicados y valores ausentes, y que estén en un formato adecuado para su procesamiento y modelado.\n"
   ]
  },
  {
   "cell_type": "markdown",
   "id": "UjrOIwTcz3ri",
   "metadata": {
    "id": "UjrOIwTcz3ri"
   },
   "source": [
    "# Paso 3. Análisis de los datos\n",
    "\n",
    "Una vez los datos estén procesados y listos, haz el siguiente análisis:"
   ]
  },
  {
   "cell_type": "markdown",
   "id": "turkish-kidney",
   "metadata": {
    "id": "turkish-kidney"
   },
   "source": [
    "# [A] Fácil (deben completarse todos para aprobar)\n",
    "\n",
    "1. Verifica que los valores en las columnas `'order_hour_of_day'` y `'order_dow'` en la tabla orders sean razonables (es decir, `'order_hour_of_day'` oscile entre 0 y 23 y `'order_dow'` oscile entre 0 y 6).\n",
    "2. Crea un gráfico que muestre el número de personas que hacen pedidos dependiendo de la hora del día.\n",
    "3. Crea un gráfico que muestre qué día de la semana la gente hace sus compras.\n",
    "4. Crea un gráfico que muestre el tiempo que la gente espera hasta hacer su siguiente pedido, y comenta sobre los valores mínimos y máximos."
   ]
  },
  {
   "cell_type": "markdown",
   "id": "short-capability",
   "metadata": {
    "id": "short-capability"
   },
   "source": [
    "### [A1] Verifica que los valores sean sensibles"
   ]
  },
  {
   "cell_type": "code",
   "execution_count": 35,
   "id": "growing-fruit",
   "metadata": {
    "id": "growing-fruit"
   },
   "outputs": [],
   "source": [
    "# Verificar los valores únicos en 'order_hour_of_day' y 'order_dow'\n",
    "unique_hours = instacart_orders_df['order_hour_of_day'].unique()\n",
    "unique_dow = instacart_orders_df['order_dow'].unique()"
   ]
  },
  {
   "cell_type": "code",
   "execution_count": 36,
   "id": "accessory-malaysia",
   "metadata": {
    "id": "accessory-malaysia"
   },
   "outputs": [
    {
     "name": "stdout",
     "output_type": "stream",
     "text": [
      "¿Los valores en 'order_hour_of_day' son razonables? True\n",
      "¿Los valores en 'order_dow' son razonables? True\n"
     ]
    }
   ],
   "source": [
    "# Verificar si los valores están dentro del rango esperado\n",
    "reasonable_hour_of_day = all(0 <= hour <= 23 for hour in unique_hours)\n",
    "reasonable_dow = all(0 <= dow <= 6 for dow in unique_dow)\n",
    "\n",
    "print(\"¿Los valores en 'order_hour_of_day' son razonables?\", reasonable_hour_of_day)\n",
    "print(\"¿Los valores en 'order_dow' son razonables?\", reasonable_dow)"
   ]
  },
  {
   "cell_type": "markdown",
   "id": "hmR2GNQ6lCsX",
   "metadata": {
    "id": "hmR2GNQ6lCsX"
   },
   "source": [
    "Escribe aquí tus conclusiones\n",
    "Este código imprimirá True si todos los valores en 'order_hour_of_day' están dentro del rango esperado (0-23) y todos los valores en 'order_dow' están dentro del rango esperado (0-6). Si algún valor se encuentra fuera de estos rangos, imprimirá False."
   ]
  },
  {
   "cell_type": "markdown",
   "id": "a6743a70",
   "metadata": {
    "id": "a6743a70"
   },
   "source": [
    "### [A2] Para cada hora del día, ¿cuántas personas hacen órdenes?"
   ]
  },
  {
   "cell_type": "code",
   "execution_count": 37,
   "id": "a36cca27",
   "metadata": {
    "id": "a36cca27"
   },
   "outputs": [
    {
     "data": {
      "image/png": "[encoded data removed]",
      "text/plain": [
       "<Figure size 1000x600 with 1 Axes>"
      ]
     },
     "metadata": {},
     "output_type": "display_data"
    }
   ],
   "source": [
    "\n",
    "# Contar la frecuencia de cada hora del día\n",
    "hour_counts = instacart_orders_df['order_hour_of_day'].value_counts().sort_index()\n",
    "\n",
    "# Crear el gráfico de barras\n",
    "plt.figure(figsize=(10, 6))\n",
    "hour_counts.plot(kind='bar', color='yellow')\n",
    "plt.title('Número de pedidos por hora del día')\n",
    "plt.xlabel('Hora del día')\n",
    "plt.ylabel('Número de pedidos')\n",
    "plt.xticks(rotation=0)\n",
    "plt.grid(axis='y')\n",
    "plt.show()\n"
   ]
  },
  {
   "cell_type": "markdown",
   "id": "11270eed",
   "metadata": {
    "id": "11270eed"
   },
   "source": [
    "Escribe aquí tus conclusiones\n",
    "Este gráfico nos proporciona una representación clara del número de pedidos realizados en cada hora del día.\n",
    "Podemos ver fácilmente cuáles son las horas pico de actividad de pedidos y si hay alguna variación significativa a lo largo del día."
   ]
  },
  {
   "cell_type": "markdown",
   "id": "documented-command",
   "metadata": {
    "id": "documented-command"
   },
   "source": [
    "### [A3] ¿Qué día de la semana compran víveres las personas?"
   ]
  },
  {
   "cell_type": "code",
   "execution_count": 38,
   "id": "chief-digit",
   "metadata": {
    "id": "chief-digit"
   },
   "outputs": [
    {
     "data": {
      "image/png": "[encoded data removed]",
      "text/plain": [
       "<Figure size 1000x600 with 1 Axes>"
      ]
     },
     "metadata": {},
     "output_type": "display_data"
    }
   ],
   "source": [
    "\n",
    "# Contar la frecuencia de cada día de la semana\n",
    "dow_counts = instacart_orders_df['order_dow'].value_counts().sort_index()\n",
    "\n",
    "# Crear el gráfico de barras\n",
    "plt.figure(figsize=(10, 6))\n",
    "dow_counts.plot(kind='bar', color='red')\n",
    "plt.title('Número de pedidos por día de la semana')\n",
    "plt.xlabel('Día de la semana')\n",
    "plt.ylabel('Número de pedidos')\n",
    "plt.xticks(rotation=0)\n",
    "plt.grid(axis='y')\n",
    "plt.show()\n"
   ]
  },
  {
   "cell_type": "markdown",
   "id": "dominant-lightning",
   "metadata": {
    "id": "dominant-lightning"
   },
   "source": [
    "Escribe aquí tus conclusiones\n",
    "Se observa que los días de mayor actividad de compra son el domingo y el lunes, seguidos por el martes y el miércoles.\n",
    "La actividad de compra disminuye gradualmente hacia el final de la semana, con menos pedidos realizados los jueves, viernes y sábados.\n",
    "Estos patrones pueden ser útiles para la planificación de inventario, la programación de empleados y otras decisiones operativas relacionadas con la logística y la atención al cliente."
   ]
  },
  {
   "cell_type": "markdown",
   "id": "cutting-concert",
   "metadata": {
    "id": "cutting-concert"
   },
   "source": [
    "### [A4] ¿Cuánto tiempo esperan las personas hasta hacer otro pedido? Comenta sobre los valores mínimos y máximos."
   ]
  },
  {
   "cell_type": "code",
   "execution_count": 39,
   "id": "c231f523",
   "metadata": {
    "id": "c231f523"
   },
   "outputs": [
    {
     "data": {
      "image/png": "[encoded data removed]",
      "text/plain": [
       "<Figure size 1000x600 with 1 Axes>"
      ]
     },
     "metadata": {},
     "output_type": "display_data"
    }
   ],
   "source": [
    "# Eliminar los valores NaN en 'days_since_prior_order'\n",
    "clean_days_since_prior_order = instacart_orders_df['days_since_prior_order'].dropna()\n",
    "\n",
    "# Crear el histograma\n",
    "plt.figure(figsize=(10, 6))\n",
    "plt.hist(clean_days_since_prior_order, bins=30, color='orange', edgecolor='black')\n",
    "plt.title('Distribución de días hasta el siguiente pedido')\n",
    "plt.xlabel('Días hasta el siguiente pedido')\n",
    "plt.ylabel('Frecuencia')\n",
    "plt.grid(True)\n",
    "plt.show()\n"
   ]
  },
  {
   "cell_type": "code",
   "execution_count": 40,
   "id": "961c54af",
   "metadata": {},
   "outputs": [
    {
     "name": "stdout",
     "output_type": "stream",
     "text": [
      "Valor mínimo de días hasta el siguiente pedido: 0.0\n",
      "Valor máximo de días hasta el siguiente pedido: 30.0\n"
     ]
    }
   ],
   "source": [
    "# Calcular los valores mínimo y máximo\n",
    "min_days_since_prior_order = clean_days_since_prior_order.min()\n",
    "max_days_since_prior_order = clean_days_since_prior_order.max()\n",
    "\n",
    "# Imprimir los resultados\n",
    "print(\"Valor mínimo de días hasta el siguiente pedido:\", min_days_since_prior_order)\n",
    "print(\"Valor máximo de días hasta el siguiente pedido:\", max_days_since_prior_order)\n"
   ]
  },
  {
   "cell_type": "markdown",
   "id": "discrete-vertex",
   "metadata": {
    "id": "discrete-vertex"
   },
   "source": [
    "Escribe aquí tus conclusiones\n",
    "El histograma muestra la distribución del tiempo que la gente espera hasta hacer su siguiente pedido:\n",
    "\n",
    "La mayoría de las personas tienden a hacer sus pedidos nuevamente dentro de un corto período de tiempo, ya que hay una gran concentración de pedidos con un tiempo de espera de 7 días o menos.\n",
    "También hay un número significativo de pedidos con un tiempo de espera de alrededor de 30 días, lo que sugiere que algunas personas pueden hacer pedidos mensuales o periódicos.\n",
    "Los valores mínimos y máximos proporcionados muestran que el tiempo mínimo que alguien espera hasta su próximo pedido es 0 días, lo que significa que algunos clientes realizan pedidos con una frecuencia diaria, mientras que el tiempo máximo que alguien espera es de aproximadamente 30 días. Esto indica que hay una amplia variedad en los patrones de compra de los clientes, desde compras frecuentes hasta compras menos frecuentes."
   ]
  },
  {
   "cell_type": "markdown",
   "id": "tight-staff",
   "metadata": {
    "id": "tight-staff"
   },
   "source": [
    "# [B] Intermedio (deben completarse todos para aprobar)\n",
    "\n",
    "1. ¿Existe alguna diferencia entre las distribuciones `'order_hour_of_day'` de los miércoles y los sábados? Traza gráficos de barra de `'order_hour_of_day'` para ambos días en la misma figura y describe las diferencias que observes.\n",
    "2. Grafica la distribución para el número de órdenes que hacen los clientes (es decir, cuántos clientes hicieron solo 1 pedido, cuántos hicieron 2, cuántos 3, y así sucesivamente...).\n",
    "3. ¿Cuáles son los 20 principales productos que se piden con más frecuencia (muestra su identificación y nombre)?"
   ]
  },
  {
   "cell_type": "markdown",
   "id": "packed-classic",
   "metadata": {
    "id": "packed-classic"
   },
   "source": [
    "### [B1] Diferencia entre miércoles y sábados para  `'order_hour_of_day'`. Traza gráficos de barra para los dos días y describe las diferencias que veas."
   ]
  },
  {
   "cell_type": "code",
   "execution_count": 41,
   "id": "d89b8403",
   "metadata": {
    "id": "d89b8403"
   },
   "outputs": [
    {
     "data": {
      "image/png": "[encoded data removed]",
      "text/plain": [
       "<Figure size 1200x600 with 1 Axes>"
      ]
     },
     "metadata": {},
     "output_type": "display_data"
    }
   ],
   "source": [
    "# Filtrar el DataFrame para miércoles y sábados\n",
    "wednesday_orders = instacart_orders_df[instacart_orders_df['order_dow'] == 2]\n",
    "saturday_orders = instacart_orders_df[instacart_orders_df['order_dow'] == 5]\n",
    "\n",
    "# Contar la frecuencia de 'order_hour_of_day' para cada día\n",
    "wednesday_hour_counts = wednesday_orders['order_hour_of_day'].value_counts().sort_index()\n",
    "saturday_hour_counts = saturday_orders['order_hour_of_day'].value_counts().sort_index()\n",
    "\n",
    "# Crear la figura y los subplots\n",
    "fig, ax = plt.subplots(figsize=(12, 6))\n",
    "\n",
    "# Graficar para miércoles\n",
    "ax.bar(wednesday_hour_counts.index, wednesday_hour_counts.values, color='skyblue', label='Miércoles')\n",
    "\n",
    "# Graficar para sábados\n",
    "ax.bar(saturday_hour_counts.index, saturday_hour_counts.values, color='lightgreen', label='Sábado', alpha=0.7)\n",
    "\n",
    "# Configurar el título y etiquetas\n",
    "ax.set_title('Distribución de pedidos por hora del día para Miércoles y Sábado')\n",
    "ax.set_xlabel('Hora del día')\n",
    "ax.set_ylabel('Número de pedidos')\n",
    "ax.set_xticks(range(24))\n",
    "ax.legend()\n",
    "\n",
    "# Mostrar la figura\n",
    "plt.grid(True)\n",
    "plt.show()\n"
   ]
  },
  {
   "cell_type": "markdown",
   "id": "charitable-congo",
   "metadata": {
    "id": "charitable-congo"
   },
   "source": [
    "Escribe aquí tus conclusiones\n",
    "Al comparar las distribuciones de pedidos por hora del día entre los miércoles y los sábados, se observan las siguientes diferencias:\n",
    "\n",
    "Los miércoles tienen un pico de actividad de pedidos más temprano en la mañana, alrededor de las 9-10 AM, seguido de una disminución gradual a lo largo del día.\n",
    "Los sábados muestran una distribución más uniforme de pedidos a lo largo del día, con un ligero aumento en la tarde y una disminución hacia la noche.\n",
    "En general, los sábados tienen una distribución más plana de pedidos a lo largo del día en comparación con los miércoles, que muestran un pico de actividad más pronunciado en la mañana.\n",
    "Estas diferencias pueden deberse a variaciones en los patrones de comportamiento de los consumidores durante la semana laboral versus el fin de semana, así como a las actividades y obligaciones asociadas con cada día de la semana."
   ]
  },
  {
   "cell_type": "markdown",
   "id": "e3891143",
   "metadata": {
    "id": "e3891143"
   },
   "source": [
    "### [B2] ¿Cuál es la distribución para el número de pedidos por cliente?"
   ]
  },
  {
   "cell_type": "code",
   "execution_count": 42,
   "id": "d8c26c23",
   "metadata": {
    "id": "d8c26c23"
   },
   "outputs": [
    {
     "data": {
      "image/png": "[encoded data removed]",
      "text/plain": [
       "<Figure size 1000x600 with 1 Axes>"
      ]
     },
     "metadata": {},
     "output_type": "display_data"
    }
   ],
   "source": [
    "# Contar la frecuencia de órdenes por usuario\n",
    "order_counts_per_user = instacart_orders_df['user_id'].value_counts().value_counts().sort_index()\n",
    "\n",
    "# Crear el gráfico de barras\n",
    "plt.figure(figsize=(10, 6))\n",
    "order_counts_per_user.plot(kind='bar', color='lightblue', edgecolor='black')\n",
    "plt.title('Distribución del número de órdenes por cliente')\n",
    "plt.xlabel('Número de órdenes')\n",
    "plt.ylabel('Número de clientes')\n",
    "plt.xticks(rotation=45)\n",
    "plt.grid(axis='y')\n",
    "plt.show()\n"
   ]
  },
  {
   "cell_type": "markdown",
   "id": "d2eff7d5",
   "metadata": {
    "id": "d2eff7d5"
   },
   "source": [
    "Escribe aquí tus conclusiones\n",
    "La distribución del número de órdenes por cliente nos proporciona información importante sobre el comportamiento de compra de los clientes:\n",
    "\n",
    "La mayoría de los clientes realizaron un número relativamente bajo de órdenes, con un pico en una sola orden.\n",
    "A medida que aumenta el número de órdenes, el número de clientes que realizan ese número de órdenes disminuye gradualmente.\n",
    "Sin embargo, aún hay un número significativo de clientes que realizan múltiples órdenes, lo que indica una base de clientes leales y recurrentes.\n",
    "Esta información es útil para comprender la distribución del valor del cliente y para la segmentación de clientes en estrategias de marketing y retención."
   ]
  },
  {
   "cell_type": "markdown",
   "id": "54a0319c",
   "metadata": {
    "id": "54a0319c"
   },
   "source": [
    "### [B3] ¿Cuáles son los 20 productos más populares (muestra su ID y nombre)?"
   ]
  },
  {
   "cell_type": "code",
   "execution_count": 43,
   "id": "exterior-arizona",
   "metadata": {
    "id": "exterior-arizona",
    "scrolled": true
   },
   "outputs": [
    {
     "name": "stdout",
     "output_type": "stream",
     "text": [
      "Los 20 principales productos que se piden con más frecuencia son:\n",
      "                   product_name\n",
      "24852                    Banana\n",
      "13176    Bag of Organic Bananas\n",
      "21137      Organic Strawberries\n",
      "21903      Organic Baby Spinach\n",
      "47209      Organic Hass Avocado\n",
      "47766           Organic Avocado\n",
      "47626               Large Lemon\n",
      "16797              Strawberries\n",
      "26209                     Limes\n",
      "27845        Organic Whole Milk\n",
      "27966       Organic Raspberries\n",
      "22935      Organic Yellow Onion\n",
      "24964            Organic Garlic\n",
      "45007          Organic Zucchini\n",
      "39275       Organic Blueberries\n",
      "49683            Cucumber Kirby\n",
      "28204        Organic Fuji Apple\n",
      "5876              Organic Lemon\n",
      "8277   Apple Honeycrisp Organic\n",
      "40706    Organic Grape Tomatoes\n"
     ]
    }
   ],
   "source": [
    "# Contar la frecuencia de cada producto\n",
    "top_products = order_products_df['product_id'].value_counts().head(20)\n",
    "\n",
    "# Obtener los nombres de los productos\n",
    "top_products_names = top_products.index.tolist()\n",
    "top_products_names = products_df[products_df['product_id'].isin(top_products_names)]\n",
    "\n",
    "# Unir los nombres de los productos con sus identificaciones\n",
    "top_products_names = top_products_names.set_index('product_id').loc[top_products.index]\n",
    "\n",
    "# Mostrar los resultados\n",
    "print(\"Los 20 principales productos que se piden con más frecuencia son:\")\n",
    "print(top_products_names[['product_name']])\n"
   ]
  },
  {
   "cell_type": "markdown",
   "id": "7df00f47",
   "metadata": {
    "id": "7df00f47"
   },
   "source": [
    "Escribe aquí tus conclusiones\n",
    "Después de analizar los datos, encontramos los 20 principales productos que se piden con más frecuencia. Estos productos son los más populares entre los clientes y pueden tener un impacto significativo en las estrategias de inventario y marketing de la empresa. Es importante monitorear continuamente la demanda de estos productos para garantizar su disponibilidad y satisfacer las necesidades de los clientes. Además, comprender qué productos son los más populares puede ayudar a identificar tendencias de compra y oportunidades para promociones o ventas cruzadas."
   ]
  },
  {
   "cell_type": "markdown",
   "id": "gross-theme",
   "metadata": {
    "id": "gross-theme"
   },
   "source": [
    "# [C] Difícil (deben completarse todos para aprobar)\n",
    "\n",
    "1. ¿Cuántos artículos suelen comprar las personas en un pedido? ¿Cómo es la distribución?\n",
    "2. ¿Cuáles son los 20 principales artículos que vuelven a pedirse con mayor frecuencia (muestra sus nombres e IDs de los productos)?\n",
    "3. Para cada producto, ¿cuál es la tasa de repetición del pedido (número de repeticiones de pedido/total de pedidos?\n",
    "4. Para cada cliente, ¿qué proporción de los productos que pidió ya los había pedido? Calcula la tasa de repetición de pedido para cada usuario en lugar de para cada producto.\n",
    "5. ¿Cuáles son los 20 principales artículos que la gente pone primero en sus carritos (muestra las IDs de los productos, sus nombres, y el número de veces en que fueron el primer artículo en añadirse al carrito)?"
   ]
  },
  {
   "cell_type": "markdown",
   "id": "romantic-deposit",
   "metadata": {
    "id": "romantic-deposit"
   },
   "source": [
    "### [C1] ¿Cuántos artículos compran normalmente las personas en un pedido? ¿Cómo es la distribución?"
   ]
  },
  {
   "cell_type": "code",
   "execution_count": 44,
   "id": "virtual-punch",
   "metadata": {
    "id": "virtual-punch"
   },
   "outputs": [
    {
     "data": {
      "image/png": "[encoded data removed]",
      "text/plain": [
       "<Figure size 1000x600 with 1 Axes>"
      ]
     },
     "metadata": {},
     "output_type": "display_data"
    },
    {
     "name": "stdout",
     "output_type": "stream",
     "text": [
      "El promedio de artículos por pedido es: 10.1\n"
     ]
    }
   ],
   "source": [
    "# Calcular el promedio de artículos por pedido\n",
    "average_items_per_order = order_products_df.groupby('order_id')['add_to_cart_order'].count().mean()\n",
    "\n",
    "# Crear un histograma para mostrar la distribución de artículos por pedido\n",
    "plt.figure(figsize=(10, 6))\n",
    "order_products_df.groupby('order_id')['add_to_cart_order'].count().hist(bins=50, color='skyblue', edgecolor='black')\n",
    "plt.title('Distribución de artículos por pedido')\n",
    "plt.xlabel('Número de artículos por pedido')\n",
    "plt.ylabel('Frecuencia')\n",
    "plt.grid(True)\n",
    "plt.show()\n",
    "\n",
    "print(\"El promedio de artículos por pedido es:\", round(average_items_per_order, 2))\n"
   ]
  },
  {
   "cell_type": "markdown",
   "id": "designed-mortality",
   "metadata": {
    "id": "designed-mortality"
   },
   "source": [
    "Escribe aquí tus conclusiones\n",
    "La distribución de artículos por pedido muestra que la mayoría de los pedidos contienen un número relativamente bajo de artículos.\n",
    "Hay una cola larga hacia la derecha en el histograma, lo que indica que también hay una cantidad significativa de pedidos que contienen más artículos.\n",
    "El promedio de artículos por pedido nos da una medida central de esta distribución, que es útil para comprender la cantidad típica de artículos que se compran en cada transacción.\n",
    "Esta información es valiosa para la gestión de inventario, el dimensionamiento de almacenes y la optimización de procesos logísticos. Además, puede ayudar en la planificación de promociones y estrategias de ventas cruzadas."
   ]
  },
  {
   "cell_type": "markdown",
   "id": "5e6b5537",
   "metadata": {
    "id": "5e6b5537"
   },
   "source": [
    "### [C2] ¿Cuáles son los 20 principales artículos que vuelven a pedirse con mayor frecuencia (muestra sus nombres e IDs de los productos)?"
   ]
  },
  {
   "cell_type": "code",
   "execution_count": 45,
   "id": "9374e55a",
   "metadata": {
    "id": "9374e55a"
   },
   "outputs": [
    {
     "name": "stdout",
     "output_type": "stream",
     "text": [
      "Los 20 principales productos que se vuelven a pedir con mayor frecuencia son:\n",
      "                   product_name\n",
      "24852                    Banana\n",
      "13176    Bag of Organic Bananas\n",
      "21137      Organic Strawberries\n",
      "21903      Organic Baby Spinach\n",
      "47209      Organic Hass Avocado\n",
      "47766           Organic Avocado\n",
      "27845        Organic Whole Milk\n",
      "47626               Large Lemon\n",
      "27966       Organic Raspberries\n",
      "16797              Strawberries\n",
      "26209                     Limes\n",
      "22935      Organic Yellow Onion\n",
      "24964            Organic Garlic\n",
      "45007          Organic Zucchini\n",
      "49683            Cucumber Kirby\n",
      "28204        Organic Fuji Apple\n",
      "8277   Apple Honeycrisp Organic\n",
      "39275       Organic Blueberries\n",
      "5876              Organic Lemon\n",
      "49235       Organic Half & Half\n"
     ]
    }
   ],
   "source": [
    "# Filtrar los productos que se vuelven a pedir con mayor frecuencia\n",
    "reordered_products = order_products_df[order_products_df['reordered'] == 1]\n",
    "\n",
    "# Contar la frecuencia de cada producto\n",
    "top_reordered_products = reordered_products['product_id'].value_counts().head(20)\n",
    "\n",
    "# Obtener los nombres de los productos\n",
    "top_reordered_products_names = top_reordered_products.index.tolist()\n",
    "top_reordered_products_names = products_df[products_df['product_id'].isin(top_reordered_products_names)]\n",
    "\n",
    "# Unir los nombres de los productos con sus identificaciones\n",
    "top_reordered_products_names = top_reordered_products_names.set_index('product_id').loc[top_reordered_products.index]\n",
    "\n",
    "# Mostrar los resultados\n",
    "print(\"Los 20 principales productos que se vuelven a pedir con mayor frecuencia son:\")\n",
    "print(top_reordered_products_names[['product_name']])\n"
   ]
  },
  {
   "cell_type": "markdown",
   "id": "80e70c74",
   "metadata": {
    "id": "80e70c74"
   },
   "source": [
    "Escribe aquí tus conclusiones\n",
    "Después de analizar los datos, podemos concluir lo siguiente sobre los 20 principales productos que se vuelven a pedir con mayor frecuencia:\n",
    "\n",
    "Estos productos son los más populares entre los clientes en términos de repetición de pedidos, lo que sugiere una alta satisfacción o preferencia por estos productos.\n",
    "Conocer qué productos tienen una alta tasa de repetición de pedidos es valioso para la gestión de inventario y la planificación de stock, ya que estos productos probablemente experimenten una demanda constante.\n",
    "Estos productos también pueden ser objetivos para promociones adicionales o estrategias de marketing destinadas a fomentar la repetición de pedidos y aumentar la lealtad del cliente"
   ]
  },
  {
   "cell_type": "markdown",
   "id": "9d312b14",
   "metadata": {
    "id": "9d312b14"
   },
   "source": [
    "### [C3] Para cada producto, ¿cuál es la proporción de las veces que se pide y que se vuelve a pedir?"
   ]
  },
  {
   "cell_type": "code",
   "execution_count": 46,
   "id": "8ae9f4b1",
   "metadata": {
    "id": "8ae9f4b1"
   },
   "outputs": [
    {
     "name": "stdout",
     "output_type": "stream",
     "text": [
      "Productos con su tasa de repetición de pedido:\n",
      "                                            product_name  reorder_rate\n",
      "14721                            Bone Strength Take Care           1.0\n",
      "20949                           Vanilla Sandwich Cookies           1.0\n",
      "6723                                    Palmiers- Petite           1.0\n",
      "6732                   Naturally Sparkling Mineral Water           1.0\n",
      "45088  California Dill Pollen & Garlic Goat Cheese & ...           1.0\n",
      "45078                                       Pomegranatea           1.0\n",
      "21016       Parchment Lined 8 in x 3.75 in x 2.5 in Pans           1.0\n",
      "21005                        Peanut Butter Pie Ice Cream           1.0\n",
      "35192                         Chocolate Soy Milk Singles           1.0\n",
      "35197  Mocha Chocolate Chip  Organic Non-Dairy Frozen...           1.0\n",
      "6810                         Raspberry Goji Paleo Prints           1.0\n",
      "45040                                 Head Lock Mega Gel           1.0\n",
      "45035                               Coffee Flavor Yogurt           1.0\n",
      "27373                                     Meat Loaf Meal           1.0\n",
      "30748                           Cheese & Garlic Croutons           1.0\n",
      "45031                 Sugar Free Hazelnut Coffee Creamer           1.0\n",
      "35137  Superior Preference Fade-Defying Color + Shine...           1.0\n",
      "30747                   Dentotape® Unflavored Waxed Tape           1.0\n",
      "35228                       Marvelous Muffins Baking Mix           1.0\n",
      "35229                             Bean & Cheese Burritos           1.0\n"
     ]
    }
   ],
   "source": [
    "# Calcular el número total de pedidos por producto\n",
    "total_orders_per_product = order_products_df['product_id'].value_counts()\n",
    "\n",
    "# Calcular el número de repeticiones de pedido por producto\n",
    "reordered_orders_per_product = reordered_products['product_id'].value_counts()\n",
    "\n",
    "# Calcular la tasa de repetición de pedido para cada producto\n",
    "reorder_rate_per_product = (reordered_orders_per_product / total_orders_per_product).fillna(0)\n",
    "\n",
    "# Obtener los nombres de los productos\n",
    "product_names_with_reorder_rate = products_df.set_index('product_id').loc[reorder_rate_per_product.index]\n",
    "\n",
    "# Añadir la tasa de repetición de pedido a los nombres de los productos\n",
    "product_names_with_reorder_rate['reorder_rate'] = reorder_rate_per_product.values\n",
    "\n",
    "# Ordenar los productos por tasa de repetición de pedido de forma descendente\n",
    "top_products_with_reorder_rate = product_names_with_reorder_rate.sort_values(by='reorder_rate', ascending=False)\n",
    "\n",
    "# Mostrar los resultados\n",
    "print(\"Productos con su tasa de repetición de pedido:\")\n",
    "print(top_products_with_reorder_rate[['product_name', 'reorder_rate']].head(20))\n"
   ]
  },
  {
   "cell_type": "markdown",
   "id": "I10dEIAyldcO",
   "metadata": {
    "id": "I10dEIAyldcO"
   },
   "source": [
    "Escribe aquí tus conclusiones\n",
    "Después de calcular la tasa de repetición del pedido para cada producto, podemos sacar las siguientes conclusiones:\n",
    "\n",
    "La tasa de repetición del pedido nos proporciona una medida de la fidelidad del cliente hacia un producto en particular. Cuanto mayor sea la tasa de repetición del pedido, mayor será la proporción de clientes que vuelven a pedir ese producto.\n",
    "Los productos con una alta tasa de repetición del pedido pueden considerarse como productos populares y consistentemente solicitados por los clientes.\n",
    "Identificar los productos con una alta tasa de repetición del pedido es importante para la gestión de inventario y las estrategias de marketing, ya que estos productos pueden ser candidatos ideales para promociones adicionales o campañas de fidelización de clientes.\n",
    "Por otro lado, los productos con una baja tasa de repetición del pedido pueden requerir un análisis adicional para comprender por qué los clientes no vuelven a pedirlos con tanta frecuencia y tomar medidas para mejorar su popularidad o relevancia para los clientes."
   ]
  },
  {
   "cell_type": "markdown",
   "id": "subject-boxing",
   "metadata": {
    "id": "subject-boxing"
   },
   "source": [
    "### [C4] Para cada cliente, ¿qué proporción de sus productos ya los había pedido?"
   ]
  },
  {
   "cell_type": "code",
   "execution_count": null,
   "id": "medical-couple",
   "metadata": {
    "id": "medical-couple",
    "scrolled": true
   },
   "outputs": [],
   "source": [
    "# Obtener la lista de productos pedidos por cada cliente en cada pedido\n",
    "order_products_list_per_user = order_products_df.groupby('order_id')['product_id'].apply(list)\n",
    "\n",
    "# Calcular la tasa de repetición de pedido para cada cliente\n",
    "reorder_rate_per_user = []\n",
    "\n",
    "for user_id in instacart_orders_df['user_id'].unique():\n",
    "    user_orders = instacart_orders_df[instacart_orders_df['user_id'] == user_id]['order_id']\n",
    "    repeat_count = 0\n",
    "    total_count = 0\n",
    "    \n",
    "    for order_id in user_orders:\n",
    "        if order_id in order_products_list_per_user:\n",
    "            products_in_order = order_products_list_per_user[order_id]\n",
    "            total_count += len(products_in_order)\n",
    "            for product_id in products_in_order:\n",
    "                if order_products_df[(order_products_df['order_id'] < order_id) & (order_products_df['product_id'] == product_id)].shape[0] > 0:\n",
    "                    repeat_count += 1\n",
    "    \n",
    "    if total_count > 0:\n",
    "        reorder_rate = repeat_count / total_count\n",
    "    else:\n",
    "        reorder_rate = 0\n",
    "    \n",
    "    reorder_rate_per_user.append((user_id, reorder_rate))\n",
    "\n",
    "# Mostrar los resultados\n",
    "print(\"Tasa de repetición de pedido para cada cliente:\")\n",
    "for user_id, reorder_rate in reorder_rate_per_user:\n",
    "    print(\"Cliente {}: {:.2f}%\".format(user_id, reorder_rate * 100))\n"
   ]
  },
  {
   "cell_type": "markdown",
   "id": "BgJSvXDsleXz",
   "metadata": {
    "id": "BgJSvXDsleXz"
   },
   "source": [
    "Escribe aquí tus conclusiones\n",
    "La tasa de repetición de pedido para cada cliente proporciona una medida de la fidelidad del cliente hacia los productos que ha pedido anteriormente.\n",
    "Los clientes con una alta tasa de repetición de pedido son aquellos que tienden a volver a pedir una proporción significativa de los mismos productos en múltiples pedidos.\n",
    "Esta métrica puede ser útil para identificar clientes leales y para personalizar estrategias de marketing y promociones dirigidas a fomentar la repetición de pedidos y aumentar la retención de clientes.\n",
    "Por otro lado, los clientes con una baja tasa de repetición de pedido pueden requerir un análisis adicional para comprender por qué no vuelven a pedir los mismos productos con tanta frecuencia y tomar medidas para mejorar su experiencia de compra o satisfacer sus necesidades."
   ]
  },
  {
   "cell_type": "markdown",
   "id": "92d35137",
   "metadata": {
    "id": "92d35137"
   },
   "source": [
    "### [C5] ¿Cuáles son los 20 principales artículos que las personas ponen primero en sus carritos?"
   ]
  },
  {
   "cell_type": "code",
   "execution_count": null,
   "id": "0ae57274",
   "metadata": {
    "id": "0ae57274",
    "scrolled": true
   },
   "outputs": [],
   "source": [
    "# Contar cuántas veces cada producto fue el primer artículo en añadirse al carrito\n",
    "first_items_count = order_products_df[order_products_df['add_to_cart_order'] == 1]['product_id'].value_counts().head(20)\n",
    "\n",
    "# Obtener los nombres de los productos\n",
    "first_items_names = products_df.set_index('product_id').loc[first_items_count.index]\n",
    "\n",
    "# Unir los nombres de los productos con sus identificaciones y contar el número de veces\n",
    "first_items_with_count = first_items_names.join(first_items_count)\n",
    "first_items_with_count.columns = ['product_name', 'count_first_added']\n",
    "\n",
    "# Mostrar los resultados\n",
    "print(\"Los 20 principales artículos que la gente pone primero en sus carritos son:\")\n",
    "print(first_items_with_count)\n"
   ]
  },
  {
   "cell_type": "markdown",
   "id": "28ce9872",
   "metadata": {
    "id": "28ce9872"
   },
   "source": [
    "Escribe aquí tus conclusiones\n",
    "Después de analizar los datos, podemos concluir lo siguiente sobre los 20 principales artículos que la gente pone primero en sus carritos:\n",
    "\n",
    "Estos artículos son los más populares como primeras opciones entre los clientes al hacer sus compras en línea.\n",
    "Conocer qué artículos son los más comunes como primeras opciones puede ser útil para comprender los hábitos de compra de los clientes y optimizar la disposición de los productos en la plataforma de comercio electrónico para mejorar la experiencia del usuario.\n",
    "Estos artículos pueden ser objeto de promociones especiales o destacarse de alguna manera en la interfaz de usuario para impulsar aún más su venta y aumentar la satisfacción del cliente.\n",
    "Además, esta información puede ser valiosa para la gestión de inventario y la planificación de stock, asegurando que los productos más populares estén siempre disponibles para su compra."
   ]
  },
  {
   "cell_type": "markdown",
   "id": "uITbFCEoDosC",
   "metadata": {
    "id": "uITbFCEoDosC"
   },
   "source": [
    "### Conclusion general del proyecto:"
   ]
  },
  {
   "cell_type": "markdown",
   "id": "722f4bbf",
   "metadata": {
    "id": "Nk-4GS7mDwqY"
   },
   "source": [
    "En este proyecto, realizamos un análisis exhaustivo de los datos del conjunto de datos de Instacart para comprender mejor el comportamiento de compra de los clientes y obtener información útil para la gestión de inventario, la planificación de marketing y la mejora de la experiencia del cliente. Aquí están las conclusiones generales del proyecto:\n",
    "\n",
    "Análisis Exploratorio de Datos (EDA): Realizamos un análisis detallado de las diferentes tablas de datos, comprendiendo la estructura de los conjuntos de datos y explorando las relaciones entre las variables.\n",
    "\n",
    "Preprocesamiento de Datos: Llevamos a cabo varias etapas de preprocesamiento de datos, que incluyeron la eliminación de valores duplicados, el manejo de valores faltantes y la creación de nuevas características derivadas.\n",
    "\n",
    "Análisis de Patrones de Compra: Investigamos los patrones de compra de los clientes, incluyendo el día y la hora de los pedidos, la frecuencia de compra y la proporción de productos repetidos en los pedidos.\n",
    "\n",
    "Identificación de Productos Populares: Determinamos los productos más populares en términos de frecuencia de compra y tasa de repetición de pedido, lo que proporcionó información valiosa para la gestión de inventario y la planificación de promociones.\n",
    "\n",
    "Comportamiento del Cliente: Analizamos el comportamiento de compra de los clientes, incluyendo la proporción de productos que vuelven a pedir y los productos que suelen agregar primero a sus carritos.\n",
    "\n",
    "Recomendaciones de Negocios: Basándonos en los hallazgos del análisis, proporcionamos recomendaciones prácticas para mejorar la estrategia de negocios de Instacart, como la optimización del inventario, la personalización de promociones y la mejora de la experiencia del cliente.\n",
    "\n",
    "En general, el proyecto proporcionó una visión profunda del comportamiento de compra de los clientes en la plataforma de Instacart, lo que puede ayudar a la empresa a tomar decisiones informadas para impulsar el crecimiento y la satisfacción del cliente."
   ]
  }
 ],
 "metadata": {
  "ExecuteTimeLog": [
   {
    "duration": 329,
    "start_time": "2024-07-09T00:53:43.178Z"
   },
   {
    "duration": 4422,
    "start_time": "2024-07-09T00:53:53.406Z"
   },
   {
    "duration": 1694,
    "start_time": "2024-07-09T00:53:57.832Z"
   },
   {
    "duration": 22,
    "start_time": "2024-07-09T00:53:59.529Z"
   },
   {
    "duration": 16,
    "start_time": "2024-07-09T00:53:59.555Z"
   },
   {
    "duration": 12,
    "start_time": "2024-07-09T00:53:59.592Z"
   },
   {
    "duration": 15,
    "start_time": "2024-07-09T00:53:59.607Z"
   },
   {
    "duration": 14,
    "start_time": "2024-07-09T00:53:59.625Z"
   },
   {
    "duration": 152,
    "start_time": "2024-07-09T00:53:59.643Z"
   },
   {
    "duration": 23,
    "start_time": "2024-07-09T00:53:59.798Z"
   },
   {
    "duration": 211,
    "start_time": "2024-07-09T00:53:59.829Z"
   },
   {
    "duration": 181,
    "start_time": "2024-07-09T00:54:00.046Z"
   },
   {
    "duration": 62,
    "start_time": "2024-07-09T00:54:00.230Z"
   },
   {
    "duration": 23,
    "start_time": "2024-07-09T00:54:00.295Z"
   },
   {
    "duration": 8,
    "start_time": "2024-07-09T00:54:00.321Z"
   },
   {
    "duration": 11,
    "start_time": "2024-07-09T00:54:00.333Z"
   },
   {
    "duration": 59,
    "start_time": "2024-07-09T00:54:00.347Z"
   },
   {
    "duration": 5,
    "start_time": "2024-07-09T00:54:00.410Z"
   },
   {
    "duration": 7,
    "start_time": "2024-07-09T00:54:00.418Z"
   },
   {
    "duration": 6,
    "start_time": "2024-07-09T00:54:00.428Z"
   },
   {
    "duration": 56,
    "start_time": "2024-07-09T00:54:00.437Z"
   },
   {
    "duration": 1412,
    "start_time": "2024-07-09T00:54:00.496Z"
   },
   {
    "duration": 1222,
    "start_time": "2024-07-09T00:54:01.910Z"
   },
   {
    "duration": 8,
    "start_time": "2024-07-09T00:54:03.135Z"
   },
   {
    "duration": 11,
    "start_time": "2024-07-09T00:54:03.146Z"
   },
   {
    "duration": 43,
    "start_time": "2024-07-09T00:54:03.159Z"
   },
   {
    "duration": 11,
    "start_time": "2024-07-09T00:54:03.206Z"
   },
   {
    "duration": 14,
    "start_time": "2024-07-09T00:54:03.220Z"
   },
   {
    "duration": 46,
    "start_time": "2024-07-09T00:54:03.244Z"
   },
   {
    "duration": 13,
    "start_time": "2024-07-09T00:54:03.295Z"
   },
   {
    "duration": 13,
    "start_time": "2024-07-09T00:54:03.311Z"
   },
   {
    "duration": 93,
    "start_time": "2024-07-09T00:54:03.328Z"
   },
   {
    "duration": 22,
    "start_time": "2024-07-09T00:54:03.424Z"
   },
   {
    "duration": 13,
    "start_time": "2024-07-09T00:54:03.448Z"
   },
   {
    "duration": 41,
    "start_time": "2024-07-09T00:54:03.492Z"
   },
   {
    "duration": 11,
    "start_time": "2024-07-09T00:54:03.536Z"
   },
   {
    "duration": 6,
    "start_time": "2024-07-09T00:54:03.549Z"
   },
   {
    "duration": 472,
    "start_time": "2024-07-09T00:54:03.593Z"
   },
   {
    "duration": 264,
    "start_time": "2024-07-09T00:54:04.069Z"
   },
   {
    "duration": 310,
    "start_time": "2024-07-09T00:54:04.336Z"
   },
   {
    "duration": 8,
    "start_time": "2024-07-09T00:54:04.650Z"
   },
   {
    "duration": 578,
    "start_time": "2024-07-09T00:54:04.661Z"
   },
   {
    "duration": 411,
    "start_time": "2024-07-09T00:54:05.243Z"
   },
   {
    "duration": 190,
    "start_time": "2024-07-09T00:54:05.657Z"
   },
   {
    "duration": 1400,
    "start_time": "2024-07-09T00:54:05.850Z"
   },
   {
    "duration": 264,
    "start_time": "2024-07-09T00:54:07.254Z"
   },
   {
    "duration": 283,
    "start_time": "2024-07-09T00:54:07.521Z"
   },
   {
    "duration": 4831,
    "start_time": "2024-07-14T13:00:32.821Z"
   },
   {
    "duration": 1916,
    "start_time": "2024-07-14T13:00:37.656Z"
   },
   {
    "duration": 19,
    "start_time": "2024-07-14T13:00:39.575Z"
   },
   {
    "duration": 39,
    "start_time": "2024-07-14T13:00:39.598Z"
   },
   {
    "duration": 13,
    "start_time": "2024-07-14T13:00:39.641Z"
   },
   {
    "duration": 13,
    "start_time": "2024-07-14T13:00:39.658Z"
   },
   {
    "duration": 37,
    "start_time": "2024-07-14T13:00:39.674Z"
   },
   {
    "duration": 123,
    "start_time": "2024-07-14T13:00:39.715Z"
   },
   {
    "duration": 15,
    "start_time": "2024-07-14T13:00:39.841Z"
   },
   {
    "duration": 246,
    "start_time": "2024-07-14T13:00:39.865Z"
   },
   {
    "duration": 206,
    "start_time": "2024-07-14T13:00:40.118Z"
   },
   {
    "duration": 64,
    "start_time": "2024-07-14T13:00:40.327Z"
   },
   {
    "duration": 49,
    "start_time": "2024-07-14T13:00:40.394Z"
   },
   {
    "duration": 14,
    "start_time": "2024-07-14T13:00:40.446Z"
   },
   {
    "duration": 11,
    "start_time": "2024-07-14T13:00:40.464Z"
   },
   {
    "duration": 51,
    "start_time": "2024-07-14T13:00:40.478Z"
   },
   {
    "duration": 17,
    "start_time": "2024-07-14T13:00:40.532Z"
   },
   {
    "duration": 5,
    "start_time": "2024-07-14T13:00:40.553Z"
   },
   {
    "duration": 6,
    "start_time": "2024-07-14T13:00:40.561Z"
   },
   {
    "duration": 6,
    "start_time": "2024-07-14T13:00:40.571Z"
   },
   {
    "duration": 1437,
    "start_time": "2024-07-14T13:00:40.613Z"
   },
   {
    "duration": 1237,
    "start_time": "2024-07-14T13:00:42.054Z"
   },
   {
    "duration": 7,
    "start_time": "2024-07-14T13:00:43.294Z"
   },
   {
    "duration": 34,
    "start_time": "2024-07-14T13:00:43.318Z"
   },
   {
    "duration": 11,
    "start_time": "2024-07-14T13:00:43.355Z"
   },
   {
    "duration": 11,
    "start_time": "2024-07-14T13:00:43.369Z"
   },
   {
    "duration": 37,
    "start_time": "2024-07-14T13:00:43.382Z"
   },
   {
    "duration": 8,
    "start_time": "2024-07-14T13:00:43.434Z"
   },
   {
    "duration": 13,
    "start_time": "2024-07-14T13:00:43.447Z"
   },
   {
    "duration": 12,
    "start_time": "2024-07-14T13:00:43.463Z"
   },
   {
    "duration": 89,
    "start_time": "2024-07-14T13:00:43.478Z"
   },
   {
    "duration": 20,
    "start_time": "2024-07-14T13:00:43.570Z"
   },
   {
    "duration": 38,
    "start_time": "2024-07-14T13:00:43.593Z"
   },
   {
    "duration": 46,
    "start_time": "2024-07-14T13:00:43.634Z"
   },
   {
    "duration": 41,
    "start_time": "2024-07-14T13:00:43.682Z"
   },
   {
    "duration": 11,
    "start_time": "2024-07-14T13:00:43.726Z"
   },
   {
    "duration": 460,
    "start_time": "2024-07-14T13:00:43.740Z"
   },
   {
    "duration": 295,
    "start_time": "2024-07-14T13:00:44.212Z"
   },
   {
    "duration": 389,
    "start_time": "2024-07-14T13:00:44.511Z"
   },
   {
    "duration": 33,
    "start_time": "2024-07-14T13:00:44.904Z"
   },
   {
    "duration": 567,
    "start_time": "2024-07-14T13:00:44.944Z"
   },
   {
    "duration": 450,
    "start_time": "2024-07-14T13:00:45.514Z"
   },
   {
    "duration": 203,
    "start_time": "2024-07-14T13:00:45.968Z"
   },
   {
    "duration": 1518,
    "start_time": "2024-07-14T13:00:46.177Z"
   },
   {
    "duration": 296,
    "start_time": "2024-07-14T13:00:47.698Z"
   },
   {
    "duration": 308,
    "start_time": "2024-07-14T13:00:47.998Z"
   },
   {
    "duration": 859,
    "start_time": "2024-07-14T13:03:32.304Z"
   },
   {
    "duration": 1902,
    "start_time": "2024-07-14T13:03:33.167Z"
   },
   {
    "duration": 22,
    "start_time": "2024-07-14T13:03:35.073Z"
   },
   {
    "duration": 27,
    "start_time": "2024-07-14T13:03:35.116Z"
   },
   {
    "duration": 12,
    "start_time": "2024-07-14T13:03:35.147Z"
   },
   {
    "duration": 13,
    "start_time": "2024-07-14T13:03:35.162Z"
   },
   {
    "duration": 43,
    "start_time": "2024-07-14T13:03:35.179Z"
   },
   {
    "duration": 122,
    "start_time": "2024-07-14T13:03:35.224Z"
   },
   {
    "duration": 15,
    "start_time": "2024-07-14T13:03:35.349Z"
   },
   {
    "duration": 232,
    "start_time": "2024-07-14T13:03:35.372Z"
   },
   {
    "duration": 188,
    "start_time": "2024-07-14T13:03:35.607Z"
   },
   {
    "duration": 59,
    "start_time": "2024-07-14T13:03:35.798Z"
   },
   {
    "duration": 22,
    "start_time": "2024-07-14T13:03:35.860Z"
   },
   {
    "duration": 45,
    "start_time": "2024-07-14T13:03:35.885Z"
   },
   {
    "duration": 11,
    "start_time": "2024-07-14T13:03:35.935Z"
   },
   {
    "duration": 18,
    "start_time": "2024-07-14T13:03:35.949Z"
   },
   {
    "duration": 6,
    "start_time": "2024-07-14T13:03:35.970Z"
   },
   {
    "duration": 5,
    "start_time": "2024-07-14T13:03:35.979Z"
   },
   {
    "duration": 10,
    "start_time": "2024-07-14T13:03:36.021Z"
   },
   {
    "duration": 12,
    "start_time": "2024-07-14T13:03:36.035Z"
   },
   {
    "duration": 1502,
    "start_time": "2024-07-14T13:03:36.050Z"
   },
   {
    "duration": 1261,
    "start_time": "2024-07-14T13:03:37.558Z"
   },
   {
    "duration": 12,
    "start_time": "2024-07-14T13:03:38.822Z"
   },
   {
    "duration": 13,
    "start_time": "2024-07-14T13:03:38.846Z"
   },
   {
    "duration": 10,
    "start_time": "2024-07-14T13:03:38.862Z"
   },
   {
    "duration": 45,
    "start_time": "2024-07-14T13:03:38.875Z"
   },
   {
    "duration": 20,
    "start_time": "2024-07-14T13:03:38.926Z"
   },
   {
    "duration": 6,
    "start_time": "2024-07-14T13:03:38.954Z"
   },
   {
    "duration": 12,
    "start_time": "2024-07-14T13:03:38.962Z"
   },
   {
    "duration": 60,
    "start_time": "2024-07-14T13:03:38.977Z"
   },
   {
    "duration": 50,
    "start_time": "2024-07-14T13:03:39.040Z"
   },
   {
    "duration": 36,
    "start_time": "2024-07-14T13:03:39.094Z"
   },
   {
    "duration": 16,
    "start_time": "2024-07-14T13:03:39.133Z"
   },
   {
    "duration": 63,
    "start_time": "2024-07-14T13:03:39.153Z"
   },
   {
    "duration": 25,
    "start_time": "2024-07-14T13:03:39.218Z"
   },
   {
    "duration": 7,
    "start_time": "2024-07-14T13:03:39.246Z"
   },
   {
    "duration": 461,
    "start_time": "2024-07-14T13:03:39.256Z"
   },
   {
    "duration": 296,
    "start_time": "2024-07-14T13:03:39.720Z"
   },
   {
    "duration": 333,
    "start_time": "2024-07-14T13:03:40.020Z"
   },
   {
    "duration": 9,
    "start_time": "2024-07-14T13:03:40.365Z"
   },
   {
    "duration": 579,
    "start_time": "2024-07-14T13:03:40.378Z"
   },
   {
    "duration": 443,
    "start_time": "2024-07-14T13:03:40.959Z"
   },
   {
    "duration": 188,
    "start_time": "2024-07-14T13:03:41.422Z"
   },
   {
    "duration": 1494,
    "start_time": "2024-07-14T13:03:41.613Z"
   },
   {
    "duration": 298,
    "start_time": "2024-07-14T13:03:43.114Z"
   },
   {
    "duration": 302,
    "start_time": "2024-07-14T13:03:43.426Z"
   },
   {
    "duration": 739,
    "start_time": "2024-07-14T13:04:34.388Z"
   },
   {
    "duration": 1723,
    "start_time": "2024-07-14T13:04:35.137Z"
   },
   {
    "duration": 21,
    "start_time": "2024-07-14T13:04:36.864Z"
   },
   {
    "duration": 39,
    "start_time": "2024-07-14T13:04:36.890Z"
   },
   {
    "duration": 19,
    "start_time": "2024-07-14T13:04:36.934Z"
   },
   {
    "duration": 13,
    "start_time": "2024-07-14T13:04:36.958Z"
   },
   {
    "duration": 45,
    "start_time": "2024-07-14T13:04:36.974Z"
   },
   {
    "duration": 123,
    "start_time": "2024-07-14T13:04:37.022Z"
   },
   {
    "duration": 14,
    "start_time": "2024-07-14T13:04:37.152Z"
   },
   {
    "duration": 235,
    "start_time": "2024-07-14T13:04:37.173Z"
   },
   {
    "duration": 185,
    "start_time": "2024-07-14T13:04:37.411Z"
   },
   {
    "duration": 63,
    "start_time": "2024-07-14T13:04:37.599Z"
   },
   {
    "duration": 21,
    "start_time": "2024-07-14T13:04:37.666Z"
   },
   {
    "duration": 7,
    "start_time": "2024-07-14T13:04:37.712Z"
   },
   {
    "duration": 14,
    "start_time": "2024-07-14T13:04:37.724Z"
   },
   {
    "duration": 25,
    "start_time": "2024-07-14T13:04:37.754Z"
   },
   {
    "duration": 45,
    "start_time": "2024-07-14T13:04:37.782Z"
   },
   {
    "duration": 9,
    "start_time": "2024-07-14T13:04:37.837Z"
   },
   {
    "duration": 6,
    "start_time": "2024-07-14T13:04:37.849Z"
   },
   {
    "duration": 6,
    "start_time": "2024-07-14T13:04:37.859Z"
   },
   {
    "duration": 1524,
    "start_time": "2024-07-14T13:04:37.869Z"
   },
   {
    "duration": 1263,
    "start_time": "2024-07-14T13:04:39.397Z"
   },
   {
    "duration": 9,
    "start_time": "2024-07-14T13:04:40.663Z"
   },
   {
    "duration": 11,
    "start_time": "2024-07-14T13:04:40.675Z"
   },
   {
    "duration": 32,
    "start_time": "2024-07-14T13:04:40.689Z"
   },
   {
    "duration": 15,
    "start_time": "2024-07-14T13:04:40.725Z"
   },
   {
    "duration": 17,
    "start_time": "2024-07-14T13:04:40.744Z"
   },
   {
    "duration": 6,
    "start_time": "2024-07-14T13:04:40.769Z"
   },
   {
    "duration": 16,
    "start_time": "2024-07-14T13:04:40.823Z"
   },
   {
    "duration": 12,
    "start_time": "2024-07-14T13:04:40.842Z"
   },
   {
    "duration": 90,
    "start_time": "2024-07-14T13:04:40.857Z"
   },
   {
    "duration": 23,
    "start_time": "2024-07-14T13:04:40.950Z"
   },
   {
    "duration": 15,
    "start_time": "2024-07-14T13:04:40.977Z"
   },
   {
    "duration": 50,
    "start_time": "2024-07-14T13:04:41.013Z"
   },
   {
    "duration": 10,
    "start_time": "2024-07-14T13:04:41.067Z"
   },
   {
    "duration": 39,
    "start_time": "2024-07-14T13:04:41.080Z"
   },
   {
    "duration": 453,
    "start_time": "2024-07-14T13:04:41.122Z"
   },
   {
    "duration": 296,
    "start_time": "2024-07-14T13:04:41.579Z"
   },
   {
    "duration": 340,
    "start_time": "2024-07-14T13:04:41.879Z"
   },
   {
    "duration": 9,
    "start_time": "2024-07-14T13:04:42.224Z"
   },
   {
    "duration": 564,
    "start_time": "2024-07-14T13:04:42.235Z"
   },
   {
    "duration": 496,
    "start_time": "2024-07-14T13:04:42.801Z"
   },
   {
    "duration": 194,
    "start_time": "2024-07-14T13:04:43.301Z"
   },
   {
    "duration": 1533,
    "start_time": "2024-07-14T13:04:43.498Z"
   },
   {
    "duration": 280,
    "start_time": "2024-07-14T13:04:45.039Z"
   },
   {
    "duration": 290,
    "start_time": "2024-07-14T13:04:45.324Z"
   },
   {
    "duration": 770,
    "start_time": "2024-07-14T13:05:06.006Z"
   },
   {
    "duration": 1768,
    "start_time": "2024-07-14T13:05:06.780Z"
   },
   {
    "duration": 29,
    "start_time": "2024-07-14T13:05:08.551Z"
   },
   {
    "duration": 43,
    "start_time": "2024-07-14T13:05:08.585Z"
   },
   {
    "duration": 14,
    "start_time": "2024-07-14T13:05:08.641Z"
   },
   {
    "duration": 19,
    "start_time": "2024-07-14T13:05:08.659Z"
   },
   {
    "duration": 34,
    "start_time": "2024-07-14T13:05:08.682Z"
   },
   {
    "duration": 127,
    "start_time": "2024-07-14T13:05:08.718Z"
   },
   {
    "duration": 14,
    "start_time": "2024-07-14T13:05:08.851Z"
   },
   {
    "duration": 220,
    "start_time": "2024-07-14T13:05:08.871Z"
   },
   {
    "duration": 204,
    "start_time": "2024-07-14T13:05:09.093Z"
   },
   {
    "duration": 69,
    "start_time": "2024-07-14T13:05:09.301Z"
   },
   {
    "duration": 40,
    "start_time": "2024-07-14T13:05:09.373Z"
   },
   {
    "duration": 7,
    "start_time": "2024-07-14T13:05:09.416Z"
   },
   {
    "duration": 28,
    "start_time": "2024-07-14T13:05:09.428Z"
   },
   {
    "duration": 28,
    "start_time": "2024-07-14T13:05:09.459Z"
   },
   {
    "duration": 20,
    "start_time": "2024-07-14T13:05:09.495Z"
   },
   {
    "duration": 8,
    "start_time": "2024-07-14T13:05:09.518Z"
   },
   {
    "duration": 6,
    "start_time": "2024-07-14T13:05:09.529Z"
   },
   {
    "duration": 6,
    "start_time": "2024-07-14T13:05:09.539Z"
   },
   {
    "duration": 1523,
    "start_time": "2024-07-14T13:05:09.548Z"
   },
   {
    "duration": 1292,
    "start_time": "2024-07-14T13:05:11.074Z"
   },
   {
    "duration": 8,
    "start_time": "2024-07-14T13:05:12.368Z"
   },
   {
    "duration": 45,
    "start_time": "2024-07-14T13:05:12.379Z"
   },
   {
    "duration": 18,
    "start_time": "2024-07-14T13:05:12.427Z"
   },
   {
    "duration": 10,
    "start_time": "2024-07-14T13:05:12.450Z"
   },
   {
    "duration": 13,
    "start_time": "2024-07-14T13:05:12.463Z"
   },
   {
    "duration": 51,
    "start_time": "2024-07-14T13:05:12.484Z"
   },
   {
    "duration": 12,
    "start_time": "2024-07-14T13:05:12.542Z"
   },
   {
    "duration": 13,
    "start_time": "2024-07-14T13:05:12.557Z"
   },
   {
    "duration": 82,
    "start_time": "2024-07-14T13:05:12.573Z"
   },
   {
    "duration": 20,
    "start_time": "2024-07-14T13:05:12.658Z"
   },
   {
    "duration": 13,
    "start_time": "2024-07-14T13:05:12.681Z"
   },
   {
    "duration": 50,
    "start_time": "2024-07-14T13:05:12.713Z"
   },
   {
    "duration": 10,
    "start_time": "2024-07-14T13:05:12.766Z"
   },
   {
    "duration": 38,
    "start_time": "2024-07-14T13:05:12.780Z"
   },
   {
    "duration": 461,
    "start_time": "2024-07-14T13:05:12.821Z"
   },
   {
    "duration": 312,
    "start_time": "2024-07-14T13:05:13.285Z"
   },
   {
    "duration": 361,
    "start_time": "2024-07-14T13:05:13.600Z"
   },
   {
    "duration": 8,
    "start_time": "2024-07-14T13:05:13.963Z"
   },
   {
    "duration": 620,
    "start_time": "2024-07-14T13:05:13.974Z"
   },
   {
    "duration": 465,
    "start_time": "2024-07-14T13:05:14.598Z"
   },
   {
    "duration": 205,
    "start_time": "2024-07-14T13:05:15.066Z"
   },
   {
    "duration": 1528,
    "start_time": "2024-07-14T13:05:15.275Z"
   },
   {
    "duration": 291,
    "start_time": "2024-07-14T13:05:16.816Z"
   },
   {
    "duration": 322,
    "start_time": "2024-07-14T13:05:17.111Z"
   },
   {
    "duration": 4526,
    "start_time": "2024-07-15T11:41:43.738Z"
   },
   {
    "duration": 1723,
    "start_time": "2024-07-15T11:41:48.268Z"
   },
   {
    "duration": 32,
    "start_time": "2024-07-15T11:41:49.994Z"
   },
   {
    "duration": 17,
    "start_time": "2024-07-15T11:41:50.032Z"
   },
   {
    "duration": 12,
    "start_time": "2024-07-15T11:41:50.052Z"
   },
   {
    "duration": 47,
    "start_time": "2024-07-15T11:41:50.067Z"
   },
   {
    "duration": 14,
    "start_time": "2024-07-15T11:41:50.117Z"
   },
   {
    "duration": 156,
    "start_time": "2024-07-15T11:41:50.135Z"
   },
   {
    "duration": 18,
    "start_time": "2024-07-15T11:41:50.294Z"
   },
   {
    "duration": 233,
    "start_time": "2024-07-15T11:41:50.319Z"
   },
   {
    "duration": 213,
    "start_time": "2024-07-15T11:41:50.555Z"
   },
   {
    "duration": 70,
    "start_time": "2024-07-15T11:41:50.772Z"
   },
   {
    "duration": 24,
    "start_time": "2024-07-15T11:41:50.845Z"
   },
   {
    "duration": 29,
    "start_time": "2024-07-15T11:41:50.873Z"
   },
   {
    "duration": 10,
    "start_time": "2024-07-15T11:41:50.906Z"
   },
   {
    "duration": 21,
    "start_time": "2024-07-15T11:41:50.919Z"
   },
   {
    "duration": 7,
    "start_time": "2024-07-15T11:41:50.943Z"
   },
   {
    "duration": 49,
    "start_time": "2024-07-15T11:41:50.953Z"
   },
   {
    "duration": 6,
    "start_time": "2024-07-15T11:41:51.005Z"
   },
   {
    "duration": 5,
    "start_time": "2024-07-15T11:41:51.014Z"
   },
   {
    "duration": 1476,
    "start_time": "2024-07-15T11:41:51.022Z"
   },
   {
    "duration": 1303,
    "start_time": "2024-07-15T11:41:52.503Z"
   },
   {
    "duration": 8,
    "start_time": "2024-07-15T11:41:53.808Z"
   },
   {
    "duration": 11,
    "start_time": "2024-07-15T11:41:53.820Z"
   },
   {
    "duration": 11,
    "start_time": "2024-07-15T11:41:53.836Z"
   },
   {
    "duration": 52,
    "start_time": "2024-07-15T11:41:53.852Z"
   },
   {
    "duration": 12,
    "start_time": "2024-07-15T11:41:53.908Z"
   },
   {
    "duration": 6,
    "start_time": "2024-07-15T11:41:53.930Z"
   },
   {
    "duration": 12,
    "start_time": "2024-07-15T11:41:53.939Z"
   },
   {
    "duration": 13,
    "start_time": "2024-07-15T11:41:54.003Z"
   },
   {
    "duration": 53,
    "start_time": "2024-07-15T11:41:54.020Z"
   },
   {
    "duration": 47,
    "start_time": "2024-07-15T11:41:54.075Z"
   },
   {
    "duration": 13,
    "start_time": "2024-07-15T11:41:54.125Z"
   },
   {
    "duration": 83,
    "start_time": "2024-07-15T11:41:54.141Z"
   },
   {
    "duration": 12,
    "start_time": "2024-07-15T11:41:54.228Z"
   },
   {
    "duration": 7,
    "start_time": "2024-07-15T11:41:54.243Z"
   },
   {
    "duration": 427,
    "start_time": "2024-07-15T11:41:54.254Z"
   },
   {
    "duration": 327,
    "start_time": "2024-07-15T11:41:54.684Z"
   },
   {
    "duration": 318,
    "start_time": "2024-07-15T11:41:55.015Z"
   },
   {
    "duration": 9,
    "start_time": "2024-07-15T11:41:55.337Z"
   },
   {
    "duration": 548,
    "start_time": "2024-07-15T11:41:55.349Z"
   },
   {
    "duration": 453,
    "start_time": "2024-07-15T11:41:55.904Z"
   },
   {
    "duration": 171,
    "start_time": "2024-07-15T11:41:56.361Z"
   },
   {
    "duration": 1455,
    "start_time": "2024-07-15T11:41:56.535Z"
   },
   {
    "duration": 286,
    "start_time": "2024-07-15T11:41:57.995Z"
   },
   {
    "duration": 294,
    "start_time": "2024-07-15T11:41:58.284Z"
   },
   {
    "duration": 715,
    "start_time": "2024-07-15T11:42:53.626Z"
   },
   {
    "duration": 1630,
    "start_time": "2024-07-15T11:42:54.345Z"
   },
   {
    "duration": 44,
    "start_time": "2024-07-15T11:42:55.978Z"
   },
   {
    "duration": 23,
    "start_time": "2024-07-15T11:42:56.028Z"
   },
   {
    "duration": 49,
    "start_time": "2024-07-15T11:42:56.055Z"
   },
   {
    "duration": 22,
    "start_time": "2024-07-15T11:42:56.106Z"
   },
   {
    "duration": 22,
    "start_time": "2024-07-15T11:42:56.131Z"
   },
   {
    "duration": 156,
    "start_time": "2024-07-15T11:42:56.157Z"
   },
   {
    "duration": 18,
    "start_time": "2024-07-15T11:42:56.317Z"
   },
   {
    "duration": 228,
    "start_time": "2024-07-15T11:42:56.342Z"
   },
   {
    "duration": 206,
    "start_time": "2024-07-15T11:42:56.573Z"
   },
   {
    "duration": 60,
    "start_time": "2024-07-15T11:42:56.782Z"
   },
   {
    "duration": 24,
    "start_time": "2024-07-15T11:42:56.845Z"
   },
   {
    "duration": 33,
    "start_time": "2024-07-15T11:42:56.872Z"
   },
   {
    "duration": 11,
    "start_time": "2024-07-15T11:42:56.909Z"
   },
   {
    "duration": 19,
    "start_time": "2024-07-15T11:42:56.924Z"
   },
   {
    "duration": 6,
    "start_time": "2024-07-15T11:42:56.946Z"
   },
   {
    "duration": 47,
    "start_time": "2024-07-15T11:42:56.956Z"
   },
   {
    "duration": 8,
    "start_time": "2024-07-15T11:42:57.008Z"
   },
   {
    "duration": 5,
    "start_time": "2024-07-15T11:42:57.020Z"
   },
   {
    "duration": 1540,
    "start_time": "2024-07-15T11:42:57.029Z"
   },
   {
    "duration": 1312,
    "start_time": "2024-07-15T11:42:58.572Z"
   },
   {
    "duration": 16,
    "start_time": "2024-07-15T11:42:59.888Z"
   },
   {
    "duration": 11,
    "start_time": "2024-07-15T11:42:59.908Z"
   },
   {
    "duration": 11,
    "start_time": "2024-07-15T11:42:59.922Z"
   },
   {
    "duration": 13,
    "start_time": "2024-07-15T11:42:59.937Z"
   },
   {
    "duration": 59,
    "start_time": "2024-07-15T11:42:59.954Z"
   },
   {
    "duration": 7,
    "start_time": "2024-07-15T11:43:00.024Z"
   },
   {
    "duration": 12,
    "start_time": "2024-07-15T11:43:00.037Z"
   },
   {
    "duration": 55,
    "start_time": "2024-07-15T11:43:00.052Z"
   },
   {
    "duration": 56,
    "start_time": "2024-07-15T11:43:00.110Z"
   },
   {
    "duration": 51,
    "start_time": "2024-07-15T11:43:00.169Z"
   },
   {
    "duration": 14,
    "start_time": "2024-07-15T11:43:00.223Z"
   },
   {
    "duration": 79,
    "start_time": "2024-07-15T11:43:00.241Z"
   },
   {
    "duration": 11,
    "start_time": "2024-07-15T11:43:00.323Z"
   },
   {
    "duration": 6,
    "start_time": "2024-07-15T11:43:00.337Z"
   },
   {
    "duration": 429,
    "start_time": "2024-07-15T11:43:00.347Z"
   },
   {
    "duration": 272,
    "start_time": "2024-07-15T11:43:00.779Z"
   },
   {
    "duration": 318,
    "start_time": "2024-07-15T11:43:01.054Z"
   },
   {
    "duration": 7,
    "start_time": "2024-07-15T11:43:01.377Z"
   },
   {
    "duration": 495,
    "start_time": "2024-07-15T11:43:01.402Z"
   },
   {
    "duration": 426,
    "start_time": "2024-07-15T11:43:01.902Z"
   },
   {
    "duration": 194,
    "start_time": "2024-07-15T11:43:02.331Z"
   },
   {
    "duration": 1652,
    "start_time": "2024-07-15T11:43:02.528Z"
   },
   {
    "duration": 309,
    "start_time": "2024-07-15T11:43:04.184Z"
   },
   {
    "duration": 377,
    "start_time": "2024-07-15T11:43:04.504Z"
   },
   {
    "duration": 4600,
    "start_time": "2024-07-16T09:23:58.440Z"
   },
   {
    "duration": 1893,
    "start_time": "2024-07-16T09:24:03.044Z"
   },
   {
    "duration": 33,
    "start_time": "2024-07-16T09:24:04.940Z"
   },
   {
    "duration": 38,
    "start_time": "2024-07-16T09:24:04.979Z"
   },
   {
    "duration": 21,
    "start_time": "2024-07-16T09:24:05.020Z"
   },
   {
    "duration": 19,
    "start_time": "2024-07-16T09:24:05.045Z"
   },
   {
    "duration": 60,
    "start_time": "2024-07-16T09:24:05.067Z"
   },
   {
    "duration": 141,
    "start_time": "2024-07-16T09:24:05.130Z"
   },
   {
    "duration": 14,
    "start_time": "2024-07-16T09:24:05.274Z"
   },
   {
    "duration": 238,
    "start_time": "2024-07-16T09:24:05.313Z"
   },
   {
    "duration": 201,
    "start_time": "2024-07-16T09:24:05.554Z"
   },
   {
    "duration": 64,
    "start_time": "2024-07-16T09:24:05.758Z"
   },
   {
    "duration": 30,
    "start_time": "2024-07-16T09:24:05.826Z"
   },
   {
    "duration": 9,
    "start_time": "2024-07-16T09:24:05.860Z"
   },
   {
    "duration": 46,
    "start_time": "2024-07-16T09:24:05.872Z"
   },
   {
    "duration": 35,
    "start_time": "2024-07-16T09:24:05.921Z"
   },
   {
    "duration": 7,
    "start_time": "2024-07-16T09:24:05.960Z"
   },
   {
    "duration": 7,
    "start_time": "2024-07-16T09:24:05.970Z"
   },
   {
    "duration": 31,
    "start_time": "2024-07-16T09:24:05.981Z"
   },
   {
    "duration": 7,
    "start_time": "2024-07-16T09:24:06.016Z"
   },
   {
    "duration": 1493,
    "start_time": "2024-07-16T09:24:06.027Z"
   },
   {
    "duration": 1301,
    "start_time": "2024-07-16T09:24:07.524Z"
   },
   {
    "duration": 8,
    "start_time": "2024-07-16T09:24:08.828Z"
   },
   {
    "duration": 9,
    "start_time": "2024-07-16T09:24:08.840Z"
   },
   {
    "duration": 10,
    "start_time": "2024-07-16T09:24:08.853Z"
   },
   {
    "duration": 12,
    "start_time": "2024-07-16T09:24:08.909Z"
   },
   {
    "duration": 20,
    "start_time": "2024-07-16T09:24:08.925Z"
   },
   {
    "duration": 6,
    "start_time": "2024-07-16T09:24:08.953Z"
   },
   {
    "duration": 52,
    "start_time": "2024-07-16T09:24:08.963Z"
   },
   {
    "duration": 17,
    "start_time": "2024-07-16T09:24:09.018Z"
   },
   {
    "duration": 79,
    "start_time": "2024-07-16T09:24:09.038Z"
   },
   {
    "duration": 23,
    "start_time": "2024-07-16T09:24:09.120Z"
   },
   {
    "duration": 14,
    "start_time": "2024-07-16T09:24:09.146Z"
   },
   {
    "duration": 77,
    "start_time": "2024-07-16T09:24:09.163Z"
   },
   {
    "duration": 12,
    "start_time": "2024-07-16T09:24:09.243Z"
   },
   {
    "duration": 7,
    "start_time": "2024-07-16T09:24:09.257Z"
   },
   {
    "duration": 423,
    "start_time": "2024-07-16T09:24:09.267Z"
   },
   {
    "duration": 323,
    "start_time": "2024-07-16T09:24:09.692Z"
   },
   {
    "duration": 318,
    "start_time": "2024-07-16T09:24:10.019Z"
   },
   {
    "duration": 10,
    "start_time": "2024-07-16T09:24:10.341Z"
   },
   {
    "duration": 510,
    "start_time": "2024-07-16T09:24:10.354Z"
   },
   {
    "duration": 411,
    "start_time": "2024-07-16T09:24:10.867Z"
   },
   {
    "duration": 185,
    "start_time": "2024-07-16T09:24:11.281Z"
   },
   {
    "duration": 1440,
    "start_time": "2024-07-16T09:24:11.468Z"
   },
   {
    "duration": 275,
    "start_time": "2024-07-16T09:24:12.912Z"
   },
   {
    "duration": 315,
    "start_time": "2024-07-16T09:24:13.190Z"
   },
   {
    "duration": 724,
    "start_time": "2024-07-16T10:16:54.352Z"
   },
   {
    "duration": 1595,
    "start_time": "2024-07-16T10:16:55.079Z"
   },
   {
    "duration": 44,
    "start_time": "2024-07-16T10:16:56.677Z"
   },
   {
    "duration": 30,
    "start_time": "2024-07-16T10:16:56.726Z"
   },
   {
    "duration": 50,
    "start_time": "2024-07-16T10:16:56.760Z"
   },
   {
    "duration": 23,
    "start_time": "2024-07-16T10:16:56.814Z"
   },
   {
    "duration": 23,
    "start_time": "2024-07-16T10:16:56.841Z"
   },
   {
    "duration": 126,
    "start_time": "2024-07-16T10:16:56.908Z"
   },
   {
    "duration": 17,
    "start_time": "2024-07-16T10:16:57.037Z"
   },
   {
    "duration": 236,
    "start_time": "2024-07-16T10:16:57.061Z"
   },
   {
    "duration": 214,
    "start_time": "2024-07-16T10:16:57.300Z"
   },
   {
    "duration": 51,
    "start_time": "2024-07-16T10:16:57.517Z"
   },
   {
    "duration": 47,
    "start_time": "2024-07-16T10:16:57.572Z"
   },
   {
    "duration": 7,
    "start_time": "2024-07-16T10:16:57.621Z"
   },
   {
    "duration": 10,
    "start_time": "2024-07-16T10:16:57.631Z"
   },
   {
    "duration": 20,
    "start_time": "2024-07-16T10:16:57.644Z"
   },
   {
    "duration": 5,
    "start_time": "2024-07-16T10:16:57.708Z"
   },
   {
    "duration": 7,
    "start_time": "2024-07-16T10:16:57.716Z"
   },
   {
    "duration": 7,
    "start_time": "2024-07-16T10:16:57.726Z"
   },
   {
    "duration": 5,
    "start_time": "2024-07-16T10:16:57.737Z"
   },
   {
    "duration": 1451,
    "start_time": "2024-07-16T10:16:57.746Z"
   },
   {
    "duration": 1215,
    "start_time": "2024-07-16T10:16:59.200Z"
   },
   {
    "duration": 8,
    "start_time": "2024-07-16T10:17:00.418Z"
   },
   {
    "duration": 11,
    "start_time": "2024-07-16T10:17:00.430Z"
   },
   {
    "duration": 10,
    "start_time": "2024-07-16T10:17:00.446Z"
   },
   {
    "duration": 50,
    "start_time": "2024-07-16T10:17:00.459Z"
   },
   {
    "duration": 11,
    "start_time": "2024-07-16T10:17:00.512Z"
   },
   {
    "duration": 5,
    "start_time": "2024-07-16T10:17:00.533Z"
   },
   {
    "duration": 11,
    "start_time": "2024-07-16T10:17:00.541Z"
   },
   {
    "duration": 61,
    "start_time": "2024-07-16T10:17:00.555Z"
   },
   {
    "duration": 49,
    "start_time": "2024-07-16T10:17:00.619Z"
   },
   {
    "duration": 49,
    "start_time": "2024-07-16T10:17:00.671Z"
   },
   {
    "duration": 13,
    "start_time": "2024-07-16T10:17:00.723Z"
   },
   {
    "duration": 39,
    "start_time": "2024-07-16T10:17:00.739Z"
   },
   {
    "duration": 11,
    "start_time": "2024-07-16T10:17:00.810Z"
   },
   {
    "duration": 5,
    "start_time": "2024-07-16T10:17:00.824Z"
   },
   {
    "duration": 431,
    "start_time": "2024-07-16T10:17:00.832Z"
   },
   {
    "duration": 295,
    "start_time": "2024-07-16T10:17:01.266Z"
   },
   {
    "duration": 309,
    "start_time": "2024-07-16T10:17:01.567Z"
   },
   {
    "duration": 8,
    "start_time": "2024-07-16T10:17:01.880Z"
   },
   {
    "duration": 532,
    "start_time": "2024-07-16T10:17:01.909Z"
   },
   {
    "duration": 411,
    "start_time": "2024-07-16T10:17:02.444Z"
   },
   {
    "duration": 192,
    "start_time": "2024-07-16T10:17:02.858Z"
   },
   {
    "duration": 1478,
    "start_time": "2024-07-16T10:17:03.053Z"
   },
   {
    "duration": 294,
    "start_time": "2024-07-16T10:17:04.535Z"
   },
   {
    "duration": 298,
    "start_time": "2024-07-16T10:17:04.831Z"
   },
   {
    "duration": 5364,
    "start_time": "2024-07-16T12:24:28.333Z"
   },
   {
    "duration": 2283,
    "start_time": "2024-07-16T12:24:33.701Z"
   },
   {
    "duration": 44,
    "start_time": "2024-07-16T12:24:35.987Z"
   },
   {
    "duration": 28,
    "start_time": "2024-07-16T12:24:36.043Z"
   },
   {
    "duration": 32,
    "start_time": "2024-07-16T12:24:36.079Z"
   },
   {
    "duration": 34,
    "start_time": "2024-07-16T12:24:36.118Z"
   },
   {
    "duration": 25,
    "start_time": "2024-07-16T12:24:36.157Z"
   },
   {
    "duration": 157,
    "start_time": "2024-07-16T12:24:36.186Z"
   },
   {
    "duration": 17,
    "start_time": "2024-07-16T12:24:36.349Z"
   },
   {
    "duration": 259,
    "start_time": "2024-07-16T12:24:36.369Z"
   },
   {
    "duration": 261,
    "start_time": "2024-07-16T12:24:36.638Z"
   },
   {
    "duration": 66,
    "start_time": "2024-07-16T12:24:36.904Z"
   },
   {
    "duration": 49,
    "start_time": "2024-07-16T12:24:36.974Z"
   },
   {
    "duration": 6,
    "start_time": "2024-07-16T12:24:37.031Z"
   },
   {
    "duration": 16,
    "start_time": "2024-07-16T12:24:37.043Z"
   },
   {
    "duration": 49,
    "start_time": "2024-07-16T12:24:37.062Z"
   },
   {
    "duration": 8,
    "start_time": "2024-07-16T12:24:37.118Z"
   },
   {
    "duration": 15,
    "start_time": "2024-07-16T12:24:37.132Z"
   },
   {
    "duration": 7,
    "start_time": "2024-07-16T12:24:37.152Z"
   },
   {
    "duration": 11,
    "start_time": "2024-07-16T12:24:37.163Z"
   },
   {
    "duration": 1635,
    "start_time": "2024-07-16T12:24:37.178Z"
   },
   {
    "duration": 1327,
    "start_time": "2024-07-16T12:24:38.817Z"
   },
   {
    "duration": 10,
    "start_time": "2024-07-16T12:24:40.148Z"
   },
   {
    "duration": 12,
    "start_time": "2024-07-16T12:24:40.162Z"
   },
   {
    "duration": 39,
    "start_time": "2024-07-16T12:24:40.178Z"
   },
   {
    "duration": 14,
    "start_time": "2024-07-16T12:24:40.222Z"
   },
   {
    "duration": 13,
    "start_time": "2024-07-16T12:24:40.240Z"
   },
   {
    "duration": 52,
    "start_time": "2024-07-16T12:24:40.257Z"
   },
   {
    "duration": 17,
    "start_time": "2024-07-16T12:24:40.313Z"
   },
   {
    "duration": 18,
    "start_time": "2024-07-16T12:24:40.333Z"
   },
   {
    "duration": 102,
    "start_time": "2024-07-16T12:24:40.354Z"
   },
   {
    "duration": 27,
    "start_time": "2024-07-16T12:24:40.460Z"
   },
   {
    "duration": 30,
    "start_time": "2024-07-16T12:24:40.490Z"
   },
   {
    "duration": 48,
    "start_time": "2024-07-16T12:24:40.523Z"
   },
   {
    "duration": 11,
    "start_time": "2024-07-16T12:24:40.609Z"
   },
   {
    "duration": 6,
    "start_time": "2024-07-16T12:24:40.624Z"
   },
   {
    "duration": 439,
    "start_time": "2024-07-16T12:24:40.633Z"
   },
   {
    "duration": 330,
    "start_time": "2024-07-16T12:24:41.075Z"
   },
   {
    "duration": 355,
    "start_time": "2024-07-16T12:24:41.410Z"
   },
   {
    "duration": 10,
    "start_time": "2024-07-16T12:24:41.769Z"
   },
   {
    "duration": 520,
    "start_time": "2024-07-16T12:24:41.808Z"
   },
   {
    "duration": 459,
    "start_time": "2024-07-16T12:24:42.333Z"
   },
   {
    "duration": 244,
    "start_time": "2024-07-16T12:24:42.794Z"
   },
   {
    "duration": 1505,
    "start_time": "2024-07-16T12:24:43.041Z"
   },
   {
    "duration": 311,
    "start_time": "2024-07-16T12:24:44.550Z"
   },
   {
    "duration": 320,
    "start_time": "2024-07-16T12:24:44.868Z"
   },
   {
    "duration": 746,
    "start_time": "2024-07-16T12:34:07.872Z"
   },
   {
    "duration": 1700,
    "start_time": "2024-07-16T12:34:08.622Z"
   },
   {
    "duration": 32,
    "start_time": "2024-07-16T12:34:10.330Z"
   },
   {
    "duration": 48,
    "start_time": "2024-07-16T12:34:10.368Z"
   },
   {
    "duration": 20,
    "start_time": "2024-07-16T12:34:10.419Z"
   },
   {
    "duration": 21,
    "start_time": "2024-07-16T12:34:10.442Z"
   },
   {
    "duration": 68,
    "start_time": "2024-07-16T12:34:10.467Z"
   },
   {
    "duration": 143,
    "start_time": "2024-07-16T12:34:10.538Z"
   },
   {
    "duration": 24,
    "start_time": "2024-07-16T12:34:10.685Z"
   },
   {
    "duration": 258,
    "start_time": "2024-07-16T12:34:10.715Z"
   },
   {
    "duration": 240,
    "start_time": "2024-07-16T12:34:10.978Z"
   },
   {
    "duration": 54,
    "start_time": "2024-07-16T12:34:11.221Z"
   },
   {
    "duration": 53,
    "start_time": "2024-07-16T12:34:11.279Z"
   },
   {
    "duration": 10,
    "start_time": "2024-07-16T12:34:11.335Z"
   },
   {
    "duration": 13,
    "start_time": "2024-07-16T12:34:11.349Z"
   },
   {
    "duration": 56,
    "start_time": "2024-07-16T12:34:11.366Z"
   },
   {
    "duration": 9,
    "start_time": "2024-07-16T12:34:11.425Z"
   },
   {
    "duration": 7,
    "start_time": "2024-07-16T12:34:11.438Z"
   },
   {
    "duration": 8,
    "start_time": "2024-07-16T12:34:11.449Z"
   },
   {
    "duration": 48,
    "start_time": "2024-07-16T12:34:11.461Z"
   },
   {
    "duration": 1487,
    "start_time": "2024-07-16T12:34:11.515Z"
   },
   {
    "duration": 1343,
    "start_time": "2024-07-16T12:34:13.010Z"
   },
   {
    "duration": 8,
    "start_time": "2024-07-16T12:34:14.356Z"
   },
   {
    "duration": 10,
    "start_time": "2024-07-16T12:34:14.367Z"
   },
   {
    "duration": 10,
    "start_time": "2024-07-16T12:34:14.410Z"
   },
   {
    "duration": 16,
    "start_time": "2024-07-16T12:34:14.423Z"
   },
   {
    "duration": 17,
    "start_time": "2024-07-16T12:34:14.443Z"
   },
   {
    "duration": 7,
    "start_time": "2024-07-16T12:34:14.509Z"
   },
   {
    "duration": 14,
    "start_time": "2024-07-16T12:34:14.521Z"
   },
   {
    "duration": 19,
    "start_time": "2024-07-16T12:34:14.539Z"
   },
   {
    "duration": 101,
    "start_time": "2024-07-16T12:34:14.561Z"
   },
   {
    "duration": 46,
    "start_time": "2024-07-16T12:34:14.665Z"
   },
   {
    "duration": 16,
    "start_time": "2024-07-16T12:34:14.715Z"
   },
   {
    "duration": 84,
    "start_time": "2024-07-16T12:34:14.737Z"
   },
   {
    "duration": 12,
    "start_time": "2024-07-16T12:34:14.825Z"
   },
   {
    "duration": 7,
    "start_time": "2024-07-16T12:34:14.839Z"
   },
   {
    "duration": 480,
    "start_time": "2024-07-16T12:34:14.849Z"
   },
   {
    "duration": 295,
    "start_time": "2024-07-16T12:34:15.333Z"
   },
   {
    "duration": 351,
    "start_time": "2024-07-16T12:34:15.631Z"
   },
   {
    "duration": 10,
    "start_time": "2024-07-16T12:34:15.986Z"
   },
   {
    "duration": 587,
    "start_time": "2024-07-16T12:34:16.009Z"
   },
   {
    "duration": 475,
    "start_time": "2024-07-16T12:34:16.599Z"
   },
   {
    "duration": 205,
    "start_time": "2024-07-16T12:34:17.077Z"
   },
   {
    "duration": 1571,
    "start_time": "2024-07-16T12:34:17.285Z"
   },
   {
    "duration": 281,
    "start_time": "2024-07-16T12:34:18.861Z"
   },
   {
    "duration": 344,
    "start_time": "2024-07-16T12:34:19.147Z"
   },
   {
    "duration": 757,
    "start_time": "2024-07-16T12:35:23.665Z"
   },
   {
    "duration": 1705,
    "start_time": "2024-07-16T12:35:24.426Z"
   },
   {
    "duration": 32,
    "start_time": "2024-07-16T12:35:26.134Z"
   },
   {
    "duration": 65,
    "start_time": "2024-07-16T12:35:26.172Z"
   },
   {
    "duration": 22,
    "start_time": "2024-07-16T12:35:26.241Z"
   },
   {
    "duration": 42,
    "start_time": "2024-07-16T12:35:26.268Z"
   },
   {
    "duration": 25,
    "start_time": "2024-07-16T12:35:26.313Z"
   },
   {
    "duration": 168,
    "start_time": "2024-07-16T12:35:26.342Z"
   },
   {
    "duration": 17,
    "start_time": "2024-07-16T12:35:26.514Z"
   },
   {
    "duration": 286,
    "start_time": "2024-07-16T12:35:26.539Z"
   },
   {
    "duration": 269,
    "start_time": "2024-07-16T12:35:26.830Z"
   },
   {
    "duration": 68,
    "start_time": "2024-07-16T12:35:27.104Z"
   },
   {
    "duration": 58,
    "start_time": "2024-07-16T12:35:27.176Z"
   },
   {
    "duration": 15,
    "start_time": "2024-07-16T12:35:27.238Z"
   },
   {
    "duration": 16,
    "start_time": "2024-07-16T12:35:27.257Z"
   },
   {
    "duration": 57,
    "start_time": "2024-07-16T12:35:27.278Z"
   },
   {
    "duration": 7,
    "start_time": "2024-07-16T12:35:27.339Z"
   },
   {
    "duration": 8,
    "start_time": "2024-07-16T12:35:27.350Z"
   },
   {
    "duration": 8,
    "start_time": "2024-07-16T12:35:27.362Z"
   },
   {
    "duration": 41,
    "start_time": "2024-07-16T12:35:27.374Z"
   },
   {
    "duration": 1648,
    "start_time": "2024-07-16T12:35:27.420Z"
   },
   {
    "duration": 1456,
    "start_time": "2024-07-16T12:35:29.071Z"
   },
   {
    "duration": 21,
    "start_time": "2024-07-16T12:35:30.530Z"
   },
   {
    "duration": 17,
    "start_time": "2024-07-16T12:35:30.560Z"
   },
   {
    "duration": 11,
    "start_time": "2024-07-16T12:35:30.581Z"
   },
   {
    "duration": 20,
    "start_time": "2024-07-16T12:35:30.597Z"
   },
   {
    "duration": 16,
    "start_time": "2024-07-16T12:35:30.621Z"
   },
   {
    "duration": 7,
    "start_time": "2024-07-16T12:35:30.646Z"
   },
   {
    "duration": 52,
    "start_time": "2024-07-16T12:35:30.658Z"
   },
   {
    "duration": 16,
    "start_time": "2024-07-16T12:35:30.716Z"
   },
   {
    "duration": 89,
    "start_time": "2024-07-16T12:35:30.736Z"
   },
   {
    "duration": 25,
    "start_time": "2024-07-16T12:35:30.829Z"
   },
   {
    "duration": 15,
    "start_time": "2024-07-16T12:35:30.858Z"
   },
   {
    "duration": 55,
    "start_time": "2024-07-16T12:35:30.909Z"
   },
   {
    "duration": 40,
    "start_time": "2024-07-16T12:35:30.968Z"
   },
   {
    "duration": 7,
    "start_time": "2024-07-16T12:35:31.012Z"
   },
   {
    "duration": 601,
    "start_time": "2024-07-16T12:35:31.023Z"
   },
   {
    "duration": 385,
    "start_time": "2024-07-16T12:35:31.627Z"
   },
   {
    "duration": 469,
    "start_time": "2024-07-16T12:35:32.017Z"
   },
   {
    "duration": 20,
    "start_time": "2024-07-16T12:35:32.490Z"
   },
   {
    "duration": 685,
    "start_time": "2024-07-16T12:35:32.518Z"
   },
   {
    "duration": 420,
    "start_time": "2024-07-16T12:35:33.210Z"
   },
   {
    "duration": 253,
    "start_time": "2024-07-16T12:35:33.634Z"
   },
   {
    "duration": 1839,
    "start_time": "2024-07-16T12:35:33.890Z"
   },
   {
    "duration": 340,
    "start_time": "2024-07-16T12:35:35.733Z"
   },
   {
    "duration": 353,
    "start_time": "2024-07-16T12:35:36.076Z"
   },
   {
    "duration": 4257,
    "start_time": "2024-07-17T10:31:27.283Z"
   },
   {
    "duration": 1718,
    "start_time": "2024-07-17T10:31:31.543Z"
   },
   {
    "duration": 29,
    "start_time": "2024-07-17T10:31:33.264Z"
   },
   {
    "duration": 35,
    "start_time": "2024-07-17T10:31:33.297Z"
   },
   {
    "duration": 19,
    "start_time": "2024-07-17T10:31:33.335Z"
   },
   {
    "duration": 20,
    "start_time": "2024-07-17T10:31:33.357Z"
   },
   {
    "duration": 63,
    "start_time": "2024-07-17T10:31:33.380Z"
   },
   {
    "duration": 111,
    "start_time": "2024-07-17T10:31:33.447Z"
   },
   {
    "duration": 15,
    "start_time": "2024-07-17T10:31:33.560Z"
   },
   {
    "duration": 206,
    "start_time": "2024-07-17T10:31:33.580Z"
   },
   {
    "duration": 175,
    "start_time": "2024-07-17T10:31:33.789Z"
   },
   {
    "duration": 47,
    "start_time": "2024-07-17T10:31:33.967Z"
   },
   {
    "duration": 23,
    "start_time": "2024-07-17T10:31:34.031Z"
   },
   {
    "duration": 6,
    "start_time": "2024-07-17T10:31:34.057Z"
   },
   {
    "duration": 10,
    "start_time": "2024-07-17T10:31:34.066Z"
   },
   {
    "duration": 57,
    "start_time": "2024-07-17T10:31:34.079Z"
   },
   {
    "duration": 6,
    "start_time": "2024-07-17T10:31:34.139Z"
   },
   {
    "duration": 6,
    "start_time": "2024-07-17T10:31:34.149Z"
   },
   {
    "duration": 6,
    "start_time": "2024-07-17T10:31:34.158Z"
   },
   {
    "duration": 6,
    "start_time": "2024-07-17T10:31:34.168Z"
   },
   {
    "duration": 1372,
    "start_time": "2024-07-17T10:31:34.178Z"
   },
   {
    "duration": 1290,
    "start_time": "2024-07-17T10:31:35.553Z"
   },
   {
    "duration": 7,
    "start_time": "2024-07-17T10:31:36.846Z"
   },
   {
    "duration": 10,
    "start_time": "2024-07-17T10:31:36.856Z"
   },
   {
    "duration": 11,
    "start_time": "2024-07-17T10:31:36.870Z"
   },
   {
    "duration": 48,
    "start_time": "2024-07-17T10:31:36.884Z"
   },
   {
    "duration": 12,
    "start_time": "2024-07-17T10:31:36.936Z"
   },
   {
    "duration": 5,
    "start_time": "2024-07-17T10:31:36.957Z"
   },
   {
    "duration": 10,
    "start_time": "2024-07-17T10:31:36.966Z"
   },
   {
    "duration": 57,
    "start_time": "2024-07-17T10:31:36.979Z"
   },
   {
    "duration": 50,
    "start_time": "2024-07-17T10:31:37.038Z"
   },
   {
    "duration": 51,
    "start_time": "2024-07-17T10:31:37.091Z"
   },
   {
    "duration": 12,
    "start_time": "2024-07-17T10:31:37.145Z"
   },
   {
    "duration": 38,
    "start_time": "2024-07-17T10:31:37.160Z"
   },
   {
    "duration": 11,
    "start_time": "2024-07-17T10:31:37.231Z"
   },
   {
    "duration": 7,
    "start_time": "2024-07-17T10:31:37.245Z"
   },
   {
    "duration": 417,
    "start_time": "2024-07-17T10:31:37.255Z"
   },
   {
    "duration": 257,
    "start_time": "2024-07-17T10:31:37.676Z"
   },
   {
    "duration": 346,
    "start_time": "2024-07-17T10:31:37.936Z"
   },
   {
    "duration": 9,
    "start_time": "2024-07-17T10:31:38.284Z"
   },
   {
    "duration": 518,
    "start_time": "2024-07-17T10:31:38.296Z"
   },
   {
    "duration": 402,
    "start_time": "2024-07-17T10:31:38.818Z"
   },
   {
    "duration": 169,
    "start_time": "2024-07-17T10:31:39.230Z"
   },
   {
    "duration": 1355,
    "start_time": "2024-07-17T10:31:39.402Z"
   },
   {
    "duration": 270,
    "start_time": "2024-07-17T10:31:40.760Z"
   },
   {
    "duration": 265,
    "start_time": "2024-07-17T10:31:41.033Z"
   }
  ],
  "colab": {
   "provenance": []
  },
  "kernelspec": {
   "display_name": "Python 3 (ipykernel)",
   "language": "python",
   "name": "python3"
  },
  "language_info": {
   "codemirror_mode": {
    "name": "ipython",
    "version": 3
   },
   "file_extension": ".py",
   "mimetype": "text/x-python",
   "name": "python",
   "nbconvert_exporter": "python",
   "pygments_lexer": "ipython3",
   "version": "3.9.19"
  },
  "toc": {
   "base_numbering": 1,
   "nav_menu": {},
   "number_sections": true,
   "sideBar": true,
   "skip_h1_title": true,
   "title_cell": "Table of Contents",
   "title_sidebar": "Contents",
   "toc_cell": false,
   "toc_position": {},
   "toc_section_display": true,
   "toc_window_display": false
  },
  "vscode": {
   "interpreter": {
    "hash": "01a7be9ec63e704a62cefc5fe7a4756944464ee731be31632bdf42a4cb4688cf"
   }
  }
 },
 "nbformat": 4,
 "nbformat_minor": 5
}
